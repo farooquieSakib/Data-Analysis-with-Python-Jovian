{
 "cells": [
  {
   "cell_type": "markdown",
   "id": "857edf8d",
   "metadata": {},
   "source": [
    "# Writing Reusable Code using Functions in Python\n",
    "\n",
    "This tutorial is a part of [Data Analysis with Python: Zero to Pandas](https://jovian.ai/learn/data-analysis-with-python-zero-to-pandas) and [Zero to Data Analyst Science Bootcamp](https://jovian.ai/learn/zero-to-data-analyst-bootcamp).\n",
    "\n",
    "![](https://i.imgur.com/TvNf5Jp.png)\n",
    "\n",
    "These tutorials take a practical and coding-focused approach. The best way to learn the material is to execute the code and experiment with it yourself. "
   ]
  },
  {
   "cell_type": "markdown",
   "id": "8fffc732",
   "metadata": {},
   "source": [
    "This tutorial covers the following topics:\n",
    "\n",
    "- Creating and using functions in Python\n",
    "- Local variables, return values, and optional arguments\n",
    "- Reusing functions and using Python library functions\n",
    "- Exception handling using `try`-`except` blocks\n",
    "- Documenting functions using docstrings"
   ]
  },
  {
   "cell_type": "markdown",
   "id": "64563b93",
   "metadata": {},
   "source": [
    "### How to run the code\n",
    "\n",
    "This tutorial is an executable [Jupyter notebook](https://jupyter.org) hosted on [Jovian](https://www.jovian.ai). You can _run_ this tutorial and experiment with the code examples in a couple of ways: *using free online resources* (recommended) or *on your computer*.\n",
    "\n",
    "#### Option 1: Running using free online resources (1-click, recommended)\n",
    "\n",
    "The easiest way to start executing the code is to click the **Run** button at the top of this page and select **Run on Binder**. You can also select \"Run on Colab\" or \"Run on Kaggle\", but you'll need to create an account on [Google Colab](https://colab.research.google.com) or [Kaggle](https://kaggle.com) to use these platforms.\n",
    "\n",
    "\n",
    "#### Option 2: Running on your computer locally\n",
    "\n",
    "To run the code on your computer locally, you'll need to set up [Python](https://www.python.org), download the notebook and install the required libraries. We recommend using the [Conda](https://docs.conda.io/projects/conda/en/latest/user-guide/install/) distribution of Python. Click the **Run** button at the top of this page, select the **Run Locally** option, and follow the instructions.\n",
    "\n",
    ">  **Jupyter Notebooks**: This tutorial is a [Jupyter notebook](https://jupyter.org) - a document made of _cells_. Each cell can contain code written in Python or explanations in plain English. You can execute code cells and view the results, e.g., numbers, messages, graphs, tables, files, etc., instantly within the notebook. Jupyter is a powerful platform for experimentation and analysis. Don't be afraid to mess around with the code & break things - you'll learn a lot by encountering and fixing errors. You can use the \"Kernel > Restart & Clear Output\" menu option to clear all outputs and start again from the top."
   ]
  },
  {
   "cell_type": "markdown",
   "id": "bdf0cc02",
   "metadata": {},
   "source": [
    "## Creating and using functions\n",
    "\n",
    "A function is a reusable set of instructions that takes one or more inputs, performs some operations, and often returns an output. Python contains many in-built functions like `print`, `len`, etc., and provides the ability to define new ones."
   ]
  },
  {
   "cell_type": "code",
   "execution_count": 1,
   "id": "59362183",
   "metadata": {},
   "outputs": [
    {
     "name": "stdout",
     "output_type": "stream",
     "text": [
      "Today is Saturday\n"
     ]
    }
   ],
   "source": [
    "today = \"Saturday\"\n",
    "print(\"Today is\", today)"
   ]
  },
  {
   "cell_type": "markdown",
   "id": "69d3c9dc",
   "metadata": {},
   "source": [
    "You can define a new function using the `def` keyword."
   ]
  },
  {
   "cell_type": "code",
   "execution_count": 2,
   "id": "d2d1b3e1",
   "metadata": {},
   "outputs": [],
   "source": [
    "def say_hello():\n",
    "    print('Hello there!')\n",
    "    print('How are you?')"
   ]
  },
  {
   "cell_type": "markdown",
   "id": "19864cea",
   "metadata": {},
   "source": [
    "Note the round brackets or parentheses `()` and colon `:` after the function's name. Both are essential parts of the syntax. The function's *body* contains an indented block of statements. The statements inside a function's body are not executed when the function is defined. To execute the statements, we need to *call* or *invoke* the function."
   ]
  },
  {
   "cell_type": "code",
   "execution_count": 3,
   "id": "98ddd7e1",
   "metadata": {},
   "outputs": [
    {
     "name": "stdout",
     "output_type": "stream",
     "text": [
      "Hello there!\n",
      "How are you?\n"
     ]
    }
   ],
   "source": [
    "say_hello()"
   ]
  },
  {
   "cell_type": "markdown",
   "id": "feca5cbd",
   "metadata": {},
   "source": [
    "### Function arguments\n",
    "\n",
    "Functions can accept zero or more values as *inputs* (also knows as *arguments* or *parameters*). Arguments help us write flexible functions that can perform the same operations on different values. Further, functions can return a result that can be stored in a variable or used in other expressions.\n",
    "\n",
    "Here's a function that filters out the even numbers from a list and returns a new list using the `return` keyword."
   ]
  },
  {
   "cell_type": "code",
   "execution_count": 4,
   "id": "dadbc10b",
   "metadata": {},
   "outputs": [],
   "source": [
    "def filter_even(number_list):\n",
    "    result_list = []\n",
    "    for number in number_list:\n",
    "        if number % 2 == 0:\n",
    "            result_list.append(number)\n",
    "    return result_list"
   ]
  },
  {
   "cell_type": "markdown",
   "id": "11b83b3b",
   "metadata": {},
   "source": [
    "Can you understand what the function does by looking at the code? If not, try executing each line of the function's body separately within a code cell with an actual list of numbers in place of `number_list`."
   ]
  },
  {
   "cell_type": "code",
   "execution_count": 5,
   "id": "b1a0395e",
   "metadata": {},
   "outputs": [],
   "source": [
    "even_list = filter_even([1, 2, 3, 4, 5, 6, 7])"
   ]
  },
  {
   "cell_type": "code",
   "execution_count": 6,
   "id": "b675df75",
   "metadata": {},
   "outputs": [
    {
     "data": {
      "text/plain": [
       "[2, 4, 6]"
      ]
     },
     "execution_count": 6,
     "metadata": {},
     "output_type": "execute_result"
    }
   ],
   "source": [
    "even_list"
   ]
  },
  {
   "cell_type": "markdown",
   "id": "d0d19087",
   "metadata": {},
   "source": [
    "## Writing great functions in Python\n",
    "\n",
    "As a programmer, you will spend most of your time writing and using functions. Python offers many features to make your functions powerful and flexible. Let's explore some of these by solving a problem:\n",
    "\n",
    "> Radha is planning to buy a house that costs `$1,260,000`. She considering two options to finance her purchase:\n",
    ">\n",
    "> * Option 1: Make an immediate down payment of `$300,000`, and take loan 8-year loan with an interest rate of 10% (compounded monthly) for the remaining amount.\n",
    "> * Option 2: Take a 10-year loan with an interest rate of 8% (compounded monthly) for the entire amount.\n",
    ">\n",
    "> Both these loans have to be paid back in equal monthly installments (EMIs). Which loan has a lower EMI among the two?\n",
    "\n",
    "\n",
    "Since we need to compare the EMIs for two loan options, defining a function to calculate the EMI for a loan would be a great idea.  The inputs to the function would be cost of the house, the down payment, duration of the loan, rate of interest etc. We'll build this function step by step.\n",
    "\n",
    "First, let's write a simple function that calculates the EMI on the entire cost of the house, assuming that the loan must be paid back in one year, and there is no interest or down payment."
   ]
  },
  {
   "cell_type": "code",
   "execution_count": 7,
   "id": "6d94bd92",
   "metadata": {},
   "outputs": [],
   "source": [
    "def loan_emi(amount):\n",
    "    emi = amount / 12\n",
    "    print('The EMI is ${}'.format(emi))"
   ]
  },
  {
   "cell_type": "code",
   "execution_count": 8,
   "id": "caebb1e5",
   "metadata": {},
   "outputs": [
    {
     "name": "stdout",
     "output_type": "stream",
     "text": [
      "The EMI is $105000.0\n"
     ]
    }
   ],
   "source": [
    "loan_emi(1260000)"
   ]
  },
  {
   "cell_type": "markdown",
   "id": "4be20d8c",
   "metadata": {},
   "source": [
    "### Local variables and scope\n",
    "\n",
    "Let's add a second argument to account for the duration of the loan in months."
   ]
  },
  {
   "cell_type": "code",
   "execution_count": 9,
   "id": "daa83491",
   "metadata": {},
   "outputs": [],
   "source": [
    "def loan_emi(amount, duration):\n",
    "    emi = amount / duration\n",
    "    print('The EMI is ${}'.format(emi))"
   ]
  },
  {
   "cell_type": "markdown",
   "id": "fcf7cbe0",
   "metadata": {},
   "source": [
    "Note that the variable `emi` defined inside the function is not accessible outside. The same is true for the parameters `amount` and `duration`. These are all *local variables* that lie within the *scope* of the function.\n",
    "\n",
    "> **Scope**: Scope refers to the region within the code where a particular variable is visible. Every function (or class definition) defines a scope within Python. Variables defined in this scope are called *local variables*. Variables that are available everywhere are called *global variables*. Scope rules allow you to use the same variable names in different functions without sharing values from one to the other. "
   ]
  },
  {
   "cell_type": "code",
   "execution_count": 10,
   "id": "cad04002",
   "metadata": {},
   "outputs": [
    {
     "ename": "NameError",
     "evalue": "name 'emi' is not defined",
     "output_type": "error",
     "traceback": [
      "\u001b[0;31m---------------------------------------------------------------------------\u001b[0m",
      "\u001b[0;31mNameError\u001b[0m                                 Traceback (most recent call last)",
      "\u001b[0;32m<ipython-input-10-e5795bfcf3c1>\u001b[0m in \u001b[0;36m<module>\u001b[0;34m\u001b[0m\n\u001b[0;32m----> 1\u001b[0;31m \u001b[0memi\u001b[0m\u001b[0;34m\u001b[0m\u001b[0;34m\u001b[0m\u001b[0m\n\u001b[0m",
      "\u001b[0;31mNameError\u001b[0m: name 'emi' is not defined"
     ]
    }
   ],
   "source": [
    "emi"
   ]
  },
  {
   "cell_type": "code",
   "execution_count": 11,
   "id": "d8e30da8",
   "metadata": {},
   "outputs": [
    {
     "ename": "NameError",
     "evalue": "name 'amount' is not defined",
     "output_type": "error",
     "traceback": [
      "\u001b[0;31m---------------------------------------------------------------------------\u001b[0m",
      "\u001b[0;31mNameError\u001b[0m                                 Traceback (most recent call last)",
      "\u001b[0;32m<ipython-input-11-9b8f90fabac0>\u001b[0m in \u001b[0;36m<module>\u001b[0;34m\u001b[0m\n\u001b[0;32m----> 1\u001b[0;31m \u001b[0mamount\u001b[0m\u001b[0;34m\u001b[0m\u001b[0;34m\u001b[0m\u001b[0m\n\u001b[0m",
      "\u001b[0;31mNameError\u001b[0m: name 'amount' is not defined"
     ]
    }
   ],
   "source": [
    "amount"
   ]
  },
  {
   "cell_type": "code",
   "execution_count": 12,
   "id": "dc3d2d20",
   "metadata": {},
   "outputs": [
    {
     "ename": "NameError",
     "evalue": "name 'duration' is not defined",
     "output_type": "error",
     "traceback": [
      "\u001b[0;31m---------------------------------------------------------------------------\u001b[0m",
      "\u001b[0;31mNameError\u001b[0m                                 Traceback (most recent call last)",
      "\u001b[0;32m<ipython-input-12-5b6659652103>\u001b[0m in \u001b[0;36m<module>\u001b[0;34m\u001b[0m\n\u001b[0;32m----> 1\u001b[0;31m \u001b[0mduration\u001b[0m\u001b[0;34m\u001b[0m\u001b[0;34m\u001b[0m\u001b[0m\n\u001b[0m",
      "\u001b[0;31mNameError\u001b[0m: name 'duration' is not defined"
     ]
    }
   ],
   "source": [
    "duration"
   ]
  },
  {
   "cell_type": "markdown",
   "id": "f3e7eaa2",
   "metadata": {},
   "source": [
    "We can now compare a 6-year loan vs. a 10-year loan (assuming no down payment or interest)."
   ]
  },
  {
   "cell_type": "code",
   "execution_count": 13,
   "id": "95909e1b",
   "metadata": {},
   "outputs": [
    {
     "name": "stdout",
     "output_type": "stream",
     "text": [
      "The EMI is $13125.0\n"
     ]
    }
   ],
   "source": [
    "loan_emi(1260000, 8*12)"
   ]
  },
  {
   "cell_type": "code",
   "execution_count": 14,
   "id": "1fa9befb",
   "metadata": {
    "scrolled": true
   },
   "outputs": [
    {
     "name": "stdout",
     "output_type": "stream",
     "text": [
      "The EMI is $10500.0\n"
     ]
    }
   ],
   "source": [
    "loan_emi(1260000, 10*12)"
   ]
  },
  {
   "cell_type": "markdown",
   "id": "8f61b0d8",
   "metadata": {},
   "source": [
    "### Return values\n",
    "\n",
    "As you might expect, the EMI for the 6-year loan is higher compared to the 10-year loan. Right now, we're printing out the result. It would be better to return it and store the results in variables for easier comparison. We can do this using the `return` statement"
   ]
  },
  {
   "cell_type": "code",
   "execution_count": 15,
   "id": "0086be71",
   "metadata": {},
   "outputs": [],
   "source": [
    "def loan_emi(amount, duration):\n",
    "    emi = amount / duration\n",
    "    return emi"
   ]
  },
  {
   "cell_type": "code",
   "execution_count": 16,
   "id": "aa21da0c",
   "metadata": {},
   "outputs": [],
   "source": [
    "emi1 = loan_emi(1260000, 8*12)"
   ]
  },
  {
   "cell_type": "code",
   "execution_count": 17,
   "id": "e4d81f99",
   "metadata": {},
   "outputs": [],
   "source": [
    "emi2 = loan_emi(1260000, 10*12)"
   ]
  },
  {
   "cell_type": "code",
   "execution_count": 18,
   "id": "cb0f924a",
   "metadata": {
    "scrolled": true
   },
   "outputs": [
    {
     "data": {
      "text/plain": [
       "13125.0"
      ]
     },
     "execution_count": 18,
     "metadata": {},
     "output_type": "execute_result"
    }
   ],
   "source": [
    "emi1"
   ]
  },
  {
   "cell_type": "code",
   "execution_count": 19,
   "id": "45c91dab",
   "metadata": {},
   "outputs": [
    {
     "data": {
      "text/plain": [
       "10500.0"
      ]
     },
     "execution_count": 19,
     "metadata": {},
     "output_type": "execute_result"
    }
   ],
   "source": [
    "emi2"
   ]
  },
  {
   "cell_type": "markdown",
   "id": "3383eb8a",
   "metadata": {},
   "source": [
    "### Optional arguments\n",
    "\n",
    "Next, let's add another argument to account for the immediate down payment. We'll make this an *optional argument* with a default value of 0."
   ]
  },
  {
   "cell_type": "code",
   "execution_count": 20,
   "id": "57577934",
   "metadata": {},
   "outputs": [],
   "source": [
    "def loan_emi(amount, duration, down_payment=0):\n",
    "    loan_amount = amount - down_payment\n",
    "    emi = loan_amount / duration\n",
    "    return emi"
   ]
  },
  {
   "cell_type": "code",
   "execution_count": 21,
   "id": "e7b0e89b",
   "metadata": {},
   "outputs": [],
   "source": [
    "emi1 = loan_emi(1260000, 8*12, 3e5)"
   ]
  },
  {
   "cell_type": "code",
   "execution_count": 22,
   "id": "d7f9c2e9",
   "metadata": {},
   "outputs": [
    {
     "data": {
      "text/plain": [
       "10000.0"
      ]
     },
     "execution_count": 22,
     "metadata": {},
     "output_type": "execute_result"
    }
   ],
   "source": [
    "emi1"
   ]
  },
  {
   "cell_type": "code",
   "execution_count": 23,
   "id": "f98240d8",
   "metadata": {},
   "outputs": [],
   "source": [
    "emi2 = loan_emi(1260000, 10*12)"
   ]
  },
  {
   "cell_type": "code",
   "execution_count": 24,
   "id": "f286aa04",
   "metadata": {},
   "outputs": [
    {
     "data": {
      "text/plain": [
       "10500.0"
      ]
     },
     "execution_count": 24,
     "metadata": {},
     "output_type": "execute_result"
    }
   ],
   "source": [
    "emi2"
   ]
  },
  {
   "cell_type": "markdown",
   "id": "8655d487",
   "metadata": {},
   "source": [
    "Next, let's add the interest calculation into the function. Here's the formula used to calculate the EMI for a loan:\n",
    "\n",
    "<img src=\"https://i.imgur.com/iKujHGK.png\" style=\"width:240px\">\n",
    "\n",
    "where:\n",
    "\n",
    "* `P` is the loan amount (principal)\n",
    "* `n` is the no. of months\n",
    "* `r` is the rate of interest per month\n",
    "\n",
    "The derivation of this formula is beyond the scope of this tutorial. See this video for an explanation: https://youtu.be/Coxza9ugW4E ."
   ]
  },
  {
   "cell_type": "code",
   "execution_count": 25,
   "id": "588800b5",
   "metadata": {},
   "outputs": [],
   "source": [
    "def loan_emi(amount, duration, rate, down_payment=0):\n",
    "    loan_amount = amount - down_payment\n",
    "    emi = loan_amount * rate * ((1+rate)**duration) / (((1+rate)**duration)-1)\n",
    "    return emi"
   ]
  },
  {
   "cell_type": "markdown",
   "id": "2aeed9f7",
   "metadata": {},
   "source": [
    "Note that while defining the function, required arguments like `cost`, `duration` and `rate` must appear before optional arguments like `down_payment`.\n",
    "\n",
    "Let's calculate the EMI for Option 1"
   ]
  },
  {
   "cell_type": "code",
   "execution_count": 26,
   "id": "e880910c",
   "metadata": {
    "scrolled": true
   },
   "outputs": [
    {
     "data": {
      "text/plain": [
       "14567.19753389219"
      ]
     },
     "execution_count": 26,
     "metadata": {},
     "output_type": "execute_result"
    }
   ],
   "source": [
    "loan_emi(1260000, 8*12, 0.1/12, 3e5)"
   ]
  },
  {
   "cell_type": "markdown",
   "id": "6816689e",
   "metadata": {},
   "source": [
    "While calculating the EMI for Option 2, we need not include the `down_payment` argument."
   ]
  },
  {
   "cell_type": "code",
   "execution_count": 27,
   "id": "355f5c0d",
   "metadata": {},
   "outputs": [
    {
     "data": {
      "text/plain": [
       "15287.276888775077"
      ]
     },
     "execution_count": 27,
     "metadata": {},
     "output_type": "execute_result"
    }
   ],
   "source": [
    "loan_emi(1260000, 10*12, 0.08/12)"
   ]
  },
  {
   "cell_type": "markdown",
   "id": "8e2a7bde",
   "metadata": {},
   "source": [
    "### Named arguments\n",
    "\n",
    "Invoking a function with many arguments can often get confusing and is prone to human errors. Python provides the option of invoking functions with *named* arguments for better clarity. You can also split function invocation into multiple lines."
   ]
  },
  {
   "cell_type": "code",
   "execution_count": 28,
   "id": "fd6447f3",
   "metadata": {},
   "outputs": [],
   "source": [
    "emi1 = loan_emi(\n",
    "    amount=1260000, \n",
    "    duration=8*12, \n",
    "    rate=0.1/12, \n",
    "    down_payment=3e5\n",
    ")"
   ]
  },
  {
   "cell_type": "code",
   "execution_count": 29,
   "id": "aeb22869",
   "metadata": {},
   "outputs": [
    {
     "data": {
      "text/plain": [
       "14567.19753389219"
      ]
     },
     "execution_count": 29,
     "metadata": {},
     "output_type": "execute_result"
    }
   ],
   "source": [
    "emi1"
   ]
  },
  {
   "cell_type": "code",
   "execution_count": 30,
   "id": "1ad8d5fd",
   "metadata": {},
   "outputs": [],
   "source": [
    "emi2 = loan_emi(amount=1260000, duration=10*12, rate=0.08/12)"
   ]
  },
  {
   "cell_type": "code",
   "execution_count": 31,
   "id": "c0d94003",
   "metadata": {},
   "outputs": [
    {
     "data": {
      "text/plain": [
       "15287.276888775077"
      ]
     },
     "execution_count": 31,
     "metadata": {},
     "output_type": "execute_result"
    }
   ],
   "source": [
    "emi2"
   ]
  },
  {
   "cell_type": "markdown",
   "id": "2d06d966",
   "metadata": {},
   "source": [
    "### Modules and library functions\n",
    "\n",
    "We can already see that the EMI for Option 1 is lower than the EMI for Option 2. However, it would be nice to round up the amount to full dollars, rather than showing digits after the decimal. To achieve this, we might want to write a function that can take a number and round it up to the next integer (e.g., 1.2 is rounded up to 2). That would be a great exercise to try out!\n",
    "\n",
    "However, since rounding numbers is a fairly common operation, Python provides a function for it (along with thousands of other functions) as part of the [Python Standard Library](https://docs.python.org/3/library/). Functions are organized into *modules* that need to be imported to use the functions they contain. \n",
    "\n",
    "> **Modules**: Modules are files containing Python code (variables, functions, classes, etc.). They provide a way of organizing the code for large Python projects into files and folders. The key benefit of using modules is _namespaces_: you must import the module to use its functions within a Python script or notebook. Namespaces provide encapsulation and avoid naming conflicts between your code and a module or across modules.\n",
    "\n",
    "We can use the `ceil` function (short for *ceiling*) from the `math` module to round up numbers. Let's import the module and use it to round up the number `1.2`. "
   ]
  },
  {
   "cell_type": "code",
   "execution_count": 32,
   "id": "00a61382",
   "metadata": {},
   "outputs": [],
   "source": [
    "import math"
   ]
  },
  {
   "cell_type": "code",
   "execution_count": 33,
   "id": "c0dae59b",
   "metadata": {},
   "outputs": [
    {
     "name": "stdout",
     "output_type": "stream",
     "text": [
      "Help on built-in function ceil in module math:\n",
      "\n",
      "ceil(x, /)\n",
      "    Return the ceiling of x as an Integral.\n",
      "    \n",
      "    This is the smallest integer >= x.\n",
      "\n"
     ]
    }
   ],
   "source": [
    "help(math.ceil)"
   ]
  },
  {
   "cell_type": "code",
   "execution_count": 34,
   "id": "b67e5ad5",
   "metadata": {},
   "outputs": [
    {
     "data": {
      "text/plain": [
       "2"
      ]
     },
     "execution_count": 34,
     "metadata": {},
     "output_type": "execute_result"
    }
   ],
   "source": [
    "math.ceil(1.2)"
   ]
  },
  {
   "cell_type": "markdown",
   "id": "6f75cb72",
   "metadata": {},
   "source": [
    "Let's now use the `math.ceil` function within the `home_loan_emi` function to round up the EMI amount. \n",
    "\n",
    "> Using functions to build other functions is a great way to reuse code and implement complex business logic while still keeping the code small, understandable, and manageable. Ideally, a function should do one thing and one thing only. If you find yourself writing a function that does too many things, consider splitting it into multiple smaller, independent functions. As a rule of thumb, try to limit your functions to 10 lines of code or less. Good programmers always write short, simple, and readable functions.\n",
    "\n"
   ]
  },
  {
   "cell_type": "code",
   "execution_count": 35,
   "id": "06287aee",
   "metadata": {},
   "outputs": [],
   "source": [
    "def loan_emi(amount, duration, rate, down_payment=0):\n",
    "    loan_amount = amount - down_payment\n",
    "    emi = loan_amount * rate * ((1+rate)**duration) / (((1+rate)**duration)-1)\n",
    "    emi = math.ceil(emi)\n",
    "    return emi"
   ]
  },
  {
   "cell_type": "code",
   "execution_count": 36,
   "id": "69f49b00",
   "metadata": {},
   "outputs": [],
   "source": [
    "emi1 = loan_emi(\n",
    "    amount=1260000, \n",
    "    duration=8*12, \n",
    "    rate=0.1/12, \n",
    "    down_payment=3e5\n",
    ")"
   ]
  },
  {
   "cell_type": "code",
   "execution_count": 37,
   "id": "26f7875b",
   "metadata": {},
   "outputs": [
    {
     "data": {
      "text/plain": [
       "14568"
      ]
     },
     "execution_count": 37,
     "metadata": {},
     "output_type": "execute_result"
    }
   ],
   "source": [
    "emi1"
   ]
  },
  {
   "cell_type": "code",
   "execution_count": 38,
   "id": "52e6945c",
   "metadata": {},
   "outputs": [],
   "source": [
    "emi2 = loan_emi(amount=1260000, duration=10*12, rate=0.08/12)"
   ]
  },
  {
   "cell_type": "code",
   "execution_count": 39,
   "id": "06d24e6a",
   "metadata": {},
   "outputs": [
    {
     "data": {
      "text/plain": [
       "15288"
      ]
     },
     "execution_count": 39,
     "metadata": {},
     "output_type": "execute_result"
    }
   ],
   "source": [
    "emi2"
   ]
  },
  {
   "cell_type": "markdown",
   "id": "794449c1",
   "metadata": {},
   "source": [
    "Let's compare the EMIs and display a message for the option with the lower EMI."
   ]
  },
  {
   "cell_type": "code",
   "execution_count": 40,
   "id": "3acbc387",
   "metadata": {},
   "outputs": [
    {
     "name": "stdout",
     "output_type": "stream",
     "text": [
      "Option 1 has the lower EMI: $14568\n"
     ]
    }
   ],
   "source": [
    "if emi1 < emi2:\n",
    "    print(\"Option 1 has the lower EMI: ${}\".format(emi1))\n",
    "else:\n",
    "    print(\"Option 2 has the lower EMI: ${}\".format(emi2))"
   ]
  },
  {
   "cell_type": "markdown",
   "id": "cf2683fe",
   "metadata": {},
   "source": [
    "### Reusing and improving functions \n",
    "\n",
    "Now we know for sure that \"Option 1\" has the lower EMI among the two options. But what's even better is that we now have a handy function `loan_emi` that we can use to solve many other similar problems with just a few lines of code. Let's try it with a couple more questions."
   ]
  },
  {
   "cell_type": "markdown",
   "id": "f6d13b06",
   "metadata": {},
   "source": [
    "> **Q**: Shaun is currently paying back a home loan for a house he bought a few years ago. The cost of the house was `$800,000`. Shaun made a down payment of `25%` of the price. He financed the remaining amount using a 6-year loan with an interest rate of `7%` per annum (compounded monthly). Shaun is now buying a car worth `$60,000`, which he is planning to finance using a 1-year loan with an interest rate of `12%` per annum. Both loans are paid back in EMIs. What is the total monthly payment Shaun makes towards loan repayment?\n",
    "\n",
    "This question is now straightforward to solve, using the `loan_emi` function we've already defined."
   ]
  },
  {
   "cell_type": "code",
   "execution_count": 41,
   "id": "9fae1b25",
   "metadata": {},
   "outputs": [
    {
     "data": {
      "text/plain": [
       "10230"
      ]
     },
     "execution_count": 41,
     "metadata": {},
     "output_type": "execute_result"
    }
   ],
   "source": [
    "cost_of_house = 800000\n",
    "home_loan_duration = 6*12 # months\n",
    "home_loan_rate = 0.07/12 # monthly\n",
    "home_down_payment = .25 * 800000\n",
    "\n",
    "emi_house = loan_emi(amount=cost_of_house,\n",
    "                     duration=home_loan_duration,\n",
    "                     rate=home_loan_rate, \n",
    "                     down_payment=home_down_payment)\n",
    "\n",
    "emi_house"
   ]
  },
  {
   "cell_type": "code",
   "execution_count": 42,
   "id": "937726dd",
   "metadata": {},
   "outputs": [
    {
     "data": {
      "text/plain": [
       "5331"
      ]
     },
     "execution_count": 42,
     "metadata": {},
     "output_type": "execute_result"
    }
   ],
   "source": [
    "cost_of_car = 60000\n",
    "car_loan_duration = 1*12 # months\n",
    "car_loan_rate = .12/12 # monthly\n",
    "\n",
    "emi_car = loan_emi(amount=cost_of_car, \n",
    "                   duration=car_loan_duration, \n",
    "                   rate=car_loan_rate)\n",
    "\n",
    "emi_car"
   ]
  },
  {
   "cell_type": "code",
   "execution_count": 43,
   "id": "7c2444ce",
   "metadata": {},
   "outputs": [
    {
     "name": "stdout",
     "output_type": "stream",
     "text": [
      "Shaun makes a total monthly payment of $15561 towards loan repayments.\n"
     ]
    }
   ],
   "source": [
    "print(\"Shaun makes a total monthly payment of ${} towards loan repayments.\".format(emi_house+emi_car))"
   ]
  },
  {
   "cell_type": "markdown",
   "id": "601d9252",
   "metadata": {},
   "source": [
    "### Exceptions and `try`-`except`\n",
    "\n",
    "> Q: If you borrow `$100,000` using a 10-year loan with an interest rate of 9% per annum, what is the total amount you end up paying as interest?\n",
    "\n",
    "One way to solve this problem is to compare the EMIs for two loans: one with the given rate of interest and another with a 0% rate of interest. The total interest paid is then simply the sum of monthly differences over the duration of the loan."
   ]
  },
  {
   "cell_type": "code",
   "execution_count": 44,
   "id": "85f20ac2",
   "metadata": {},
   "outputs": [
    {
     "data": {
      "text/plain": [
       "1267"
      ]
     },
     "execution_count": 44,
     "metadata": {},
     "output_type": "execute_result"
    }
   ],
   "source": [
    "emi_with_interest = loan_emi(amount=100000, duration=10*12, rate=0.09/12)\n",
    "emi_with_interest"
   ]
  },
  {
   "cell_type": "code",
   "execution_count": 45,
   "id": "ea23c1bc",
   "metadata": {},
   "outputs": [
    {
     "ename": "ZeroDivisionError",
     "evalue": "float division by zero",
     "output_type": "error",
     "traceback": [
      "\u001b[0;31m---------------------------------------------------------------------------\u001b[0m",
      "\u001b[0;31mZeroDivisionError\u001b[0m                         Traceback (most recent call last)",
      "\u001b[0;32m<ipython-input-45-b684ffbee02d>\u001b[0m in \u001b[0;36m<module>\u001b[0;34m\u001b[0m\n\u001b[0;32m----> 1\u001b[0;31m \u001b[0memi_without_interest\u001b[0m \u001b[0;34m=\u001b[0m \u001b[0mloan_emi\u001b[0m\u001b[0;34m(\u001b[0m\u001b[0mamount\u001b[0m\u001b[0;34m=\u001b[0m\u001b[0;36m100000\u001b[0m\u001b[0;34m,\u001b[0m \u001b[0mduration\u001b[0m\u001b[0;34m=\u001b[0m\u001b[0;36m10\u001b[0m\u001b[0;34m*\u001b[0m\u001b[0;36m12\u001b[0m\u001b[0;34m,\u001b[0m \u001b[0mrate\u001b[0m\u001b[0;34m=\u001b[0m\u001b[0;36m0.\u001b[0m\u001b[0;34m/\u001b[0m\u001b[0;36m12\u001b[0m\u001b[0;34m)\u001b[0m\u001b[0;34m\u001b[0m\u001b[0;34m\u001b[0m\u001b[0m\n\u001b[0m\u001b[1;32m      2\u001b[0m \u001b[0memi_without_interest\u001b[0m\u001b[0;34m\u001b[0m\u001b[0;34m\u001b[0m\u001b[0m\n",
      "\u001b[0;32m<ipython-input-35-ad16168becb0>\u001b[0m in \u001b[0;36mloan_emi\u001b[0;34m(amount, duration, rate, down_payment)\u001b[0m\n\u001b[1;32m      1\u001b[0m \u001b[0;32mdef\u001b[0m \u001b[0mloan_emi\u001b[0m\u001b[0;34m(\u001b[0m\u001b[0mamount\u001b[0m\u001b[0;34m,\u001b[0m \u001b[0mduration\u001b[0m\u001b[0;34m,\u001b[0m \u001b[0mrate\u001b[0m\u001b[0;34m,\u001b[0m \u001b[0mdown_payment\u001b[0m\u001b[0;34m=\u001b[0m\u001b[0;36m0\u001b[0m\u001b[0;34m)\u001b[0m\u001b[0;34m:\u001b[0m\u001b[0;34m\u001b[0m\u001b[0;34m\u001b[0m\u001b[0m\n\u001b[1;32m      2\u001b[0m     \u001b[0mloan_amount\u001b[0m \u001b[0;34m=\u001b[0m \u001b[0mamount\u001b[0m \u001b[0;34m-\u001b[0m \u001b[0mdown_payment\u001b[0m\u001b[0;34m\u001b[0m\u001b[0;34m\u001b[0m\u001b[0m\n\u001b[0;32m----> 3\u001b[0;31m     \u001b[0memi\u001b[0m \u001b[0;34m=\u001b[0m \u001b[0mloan_amount\u001b[0m \u001b[0;34m*\u001b[0m \u001b[0mrate\u001b[0m \u001b[0;34m*\u001b[0m \u001b[0;34m(\u001b[0m\u001b[0;34m(\u001b[0m\u001b[0;36m1\u001b[0m\u001b[0;34m+\u001b[0m\u001b[0mrate\u001b[0m\u001b[0;34m)\u001b[0m\u001b[0;34m**\u001b[0m\u001b[0mduration\u001b[0m\u001b[0;34m)\u001b[0m \u001b[0;34m/\u001b[0m \u001b[0;34m(\u001b[0m\u001b[0;34m(\u001b[0m\u001b[0;34m(\u001b[0m\u001b[0;36m1\u001b[0m\u001b[0;34m+\u001b[0m\u001b[0mrate\u001b[0m\u001b[0;34m)\u001b[0m\u001b[0;34m**\u001b[0m\u001b[0mduration\u001b[0m\u001b[0;34m)\u001b[0m\u001b[0;34m-\u001b[0m\u001b[0;36m1\u001b[0m\u001b[0;34m)\u001b[0m\u001b[0;34m\u001b[0m\u001b[0;34m\u001b[0m\u001b[0m\n\u001b[0m\u001b[1;32m      4\u001b[0m     \u001b[0memi\u001b[0m \u001b[0;34m=\u001b[0m \u001b[0mmath\u001b[0m\u001b[0;34m.\u001b[0m\u001b[0mceil\u001b[0m\u001b[0;34m(\u001b[0m\u001b[0memi\u001b[0m\u001b[0;34m)\u001b[0m\u001b[0;34m\u001b[0m\u001b[0;34m\u001b[0m\u001b[0m\n\u001b[1;32m      5\u001b[0m     \u001b[0;32mreturn\u001b[0m \u001b[0memi\u001b[0m\u001b[0;34m\u001b[0m\u001b[0;34m\u001b[0m\u001b[0m\n",
      "\u001b[0;31mZeroDivisionError\u001b[0m: float division by zero"
     ]
    }
   ],
   "source": [
    "emi_without_interest = loan_emi(amount=100000, duration=10*12, rate=0./12)\n",
    "emi_without_interest"
   ]
  },
  {
   "cell_type": "markdown",
   "id": "133d0172",
   "metadata": {},
   "source": [
    "Something seems to have gone wrong! If you look at the error message above carefully, Python tells us precisely what is wrong. Python *throws* a `ZeroDivisionError` with a message indicating that we're trying to divide a number by zero. `ZeroDivisonError` is an *exception* that stops further execution of the program.\n",
    "\n",
    "> **Exception**: Even if a statement or expression is syntactically correct, it may cause an error when the Python interpreter tries to execute it. Errors detected during execution are called exceptions. Exceptions typically stop further execution of the program unless handled within the program using `try`-`except` statements.\n",
    "\n",
    "Python provides many built-in exceptions *thrown* when built-in operators, functions, or methods are used incorrectly: https://docs.python.org/3/library/exceptions.html#built-in-exceptions. You can also define your custom exception by extending the `Exception` class (more on that later).\n",
    "\n",
    "You can use the `try` and `except` statements to *handle* an exception. Here's an example:"
   ]
  },
  {
   "cell_type": "code",
   "execution_count": 46,
   "id": "309af23e",
   "metadata": {},
   "outputs": [
    {
     "name": "stdout",
     "output_type": "stream",
     "text": [
      "Now computing the result..\n",
      "Failed to compute result because you were trying to divide by zero\n",
      "None\n"
     ]
    }
   ],
   "source": [
    "try:\n",
    "    print(\"Now computing the result..\")\n",
    "    result = 5 / 0\n",
    "    print(\"Computation was completed successfully\")\n",
    "except ZeroDivisionError:\n",
    "    print(\"Failed to compute result because you were trying to divide by zero\")\n",
    "    result = None\n",
    "\n",
    "print(result)"
   ]
  },
  {
   "cell_type": "markdown",
   "id": "0b1d0f0d",
   "metadata": {},
   "source": [
    "When an exception occurs inside a `try` block, the block's remaining statements are skipped. The `except` block is executed if the type of exception thrown matches that of the exception being handled. After executing the `except` block, the program execution returns to the normal flow.\n",
    "\n",
    "You can also handle more than one type of exception using multiple `except` statements. Learn more about exceptions here: https://www.w3schools.com/python/python_try_except.asp .\n",
    "\n",
    "Let's enhance the `loan_emi` function to use `try`-`except` to handle the scenario where the interest rate is 0%. It's common practice to make changes/enhancements to functions over time as new scenarios and use cases come up. It makes functions more robust & versatile."
   ]
  },
  {
   "cell_type": "code",
   "execution_count": 47,
   "id": "5c93563e",
   "metadata": {},
   "outputs": [],
   "source": [
    "def loan_emi(amount, duration, rate, down_payment=0):\n",
    "    loan_amount = amount - down_payment\n",
    "    try:\n",
    "        emi = loan_amount * rate * ((1+rate)**duration) / (((1+rate)**duration)-1)\n",
    "    except ZeroDivisionError:\n",
    "        emi = loan_amount / duration\n",
    "    emi = math.ceil(emi)\n",
    "    return emi"
   ]
  },
  {
   "cell_type": "markdown",
   "id": "f0478553",
   "metadata": {},
   "source": [
    "We can use the updated `loan_emi` function to solve our problem.\n",
    "\n",
    "> **Q**: If you borrow `$100,000` using a 10-year loan with an interest rate of 9% per annum, what is the total amount you end up paying as interest?\n",
    "\n"
   ]
  },
  {
   "cell_type": "code",
   "execution_count": 48,
   "id": "e130865b",
   "metadata": {},
   "outputs": [
    {
     "data": {
      "text/plain": [
       "1267"
      ]
     },
     "execution_count": 48,
     "metadata": {},
     "output_type": "execute_result"
    }
   ],
   "source": [
    "emi_with_interest = loan_emi(amount=100000, duration=10*12, rate=0.09/12)\n",
    "emi_with_interest"
   ]
  },
  {
   "cell_type": "code",
   "execution_count": 49,
   "id": "0476eb65",
   "metadata": {},
   "outputs": [
    {
     "data": {
      "text/plain": [
       "834"
      ]
     },
     "execution_count": 49,
     "metadata": {},
     "output_type": "execute_result"
    }
   ],
   "source": [
    "emi_without_interest = loan_emi(amount=100000, duration=10*12, rate=0)\n",
    "emi_without_interest"
   ]
  },
  {
   "cell_type": "code",
   "execution_count": 50,
   "id": "07b607ae",
   "metadata": {},
   "outputs": [],
   "source": [
    "total_interest = (emi_with_interest - emi_without_interest) * 10*12"
   ]
  },
  {
   "cell_type": "code",
   "execution_count": 51,
   "id": "6193d9c3",
   "metadata": {},
   "outputs": [
    {
     "name": "stdout",
     "output_type": "stream",
     "text": [
      "The total interest paid is $51960.\n"
     ]
    }
   ],
   "source": [
    "print(\"The total interest paid is ${}.\".format(total_interest))"
   ]
  },
  {
   "cell_type": "markdown",
   "id": "d7ba627c",
   "metadata": {},
   "source": [
    "### Documenting functions using Docstrings\n",
    "\n",
    "We can add some documentation within our function using a *docstring*. A docstring is simply a string that appears as the first statement within the function body, and is used by the `help` function. A good docstring describes what the function does, and provides some explanation about the arguments."
   ]
  },
  {
   "cell_type": "code",
   "execution_count": 52,
   "id": "199fedab",
   "metadata": {},
   "outputs": [],
   "source": [
    "def loan_emi(amount, duration, rate, down_payment=0):\n",
    "    \"\"\"Calculates the equal montly installment (EMI) for a loan.\n",
    "    \n",
    "    Arguments:\n",
    "        amount - Total amount to be spent (loan + down payment)\n",
    "        duration - Duration of the loan (in months)\n",
    "        rate - Rate of interest (monthly)\n",
    "        down_payment (optional) - Optional intial payment (deducted from amount)\n",
    "    \"\"\"\n",
    "    loan_amount = amount - down_payment\n",
    "    try:\n",
    "        emi = loan_amount * rate * ((1+rate)**duration) / (((1+rate)**duration)-1)\n",
    "    except ZeroDivisionError:\n",
    "        emi = loan_amount / duration\n",
    "    emi = math.ceil(emi)\n",
    "    return emi"
   ]
  },
  {
   "cell_type": "markdown",
   "id": "fd58aa47",
   "metadata": {},
   "source": [
    "In the docstring above, we've provided some additional information that the `duration` and `rate` are measured in months. You might even consider naming the arguments `duration_months` and `rate_monthly`, to avoid any confusion whatsoever. Can you think of some other ways to improve the function?"
   ]
  },
  {
   "cell_type": "code",
   "execution_count": 53,
   "id": "2ce2e2e4",
   "metadata": {},
   "outputs": [
    {
     "name": "stdout",
     "output_type": "stream",
     "text": [
      "Help on function loan_emi in module __main__:\n",
      "\n",
      "loan_emi(amount, duration, rate, down_payment=0)\n",
      "    Calculates the equal montly installment (EMI) for a loan.\n",
      "    \n",
      "    Arguments:\n",
      "        amount - Total amount to be spent (loan + down payment)\n",
      "        duration - Duration of the loan (in months)\n",
      "        rate - Rate of interest (monthly)\n",
      "        down_payment (optional) - Optional intial payment (deducted from amount)\n",
      "\n"
     ]
    }
   ],
   "source": [
    "help(loan_emi)"
   ]
  },
  {
   "cell_type": "markdown",
   "id": "ea7c46ff",
   "metadata": {},
   "source": [
    "### Save and upload your notebook\n",
    "\n",
    "Whether you're running this Jupyter notebook online or on your computer, it's essential to save your work from time to time. You can continue working on a saved notebook later or share it with friends and colleagues to let them execute your code. [Jovian](https://www.jovian.ai) offers an easy way of saving and sharing your Jupyter notebooks online."
   ]
  },
  {
   "cell_type": "code",
   "execution_count": 54,
   "id": "8e9a5f64",
   "metadata": {},
   "outputs": [],
   "source": [
    "# Instal the library\n",
    "!pip install jovian --upgrade --quiet"
   ]
  },
  {
   "cell_type": "code",
   "execution_count": 55,
   "id": "e3d55090",
   "metadata": {},
   "outputs": [],
   "source": [
    "# Import the jovian module\n",
    "import jovian"
   ]
  },
  {
   "cell_type": "code",
   "execution_count": 69,
   "id": "62d22c19",
   "metadata": {},
   "outputs": [
    {
     "data": {
      "application/javascript": [
       "window.require && require([\"base/js/namespace\"],function(Jupyter){Jupyter.notebook.save_checkpoint()})"
      ],
      "text/plain": [
       "<IPython.core.display.Javascript object>"
      ]
     },
     "metadata": {},
     "output_type": "display_data"
    },
    {
     "name": "stdout",
     "output_type": "stream",
     "text": [
      "[jovian] Creating a new project \"farooquiesakib/Functions and Scope\"\u001b[0m\n",
      "[jovian] Committed successfully! https://jovian.ai/farooquiesakib/functions-and-scope\u001b[0m\n"
     ]
    },
    {
     "data": {
      "text/plain": [
       "'https://jovian.ai/farooquiesakib/functions-and-scope'"
      ]
     },
     "execution_count": 69,
     "metadata": {},
     "output_type": "execute_result"
    }
   ],
   "source": [
    "jovian.commit(project='Functions and Scope', environment=None)"
   ]
  },
  {
   "cell_type": "markdown",
   "id": "b2a6f0ef",
   "metadata": {},
   "source": [
    "The first time you run `jovian.commit`, you'll be asked to provide an API Key to securely upload the notebook to your Jovian account. You can get the API key from your [Jovian profile page](https://jovian.ai) after logging in / signing up.\n",
    "\n",
    "\n",
    "`jovian.commit` uploads the notebook to your Jovian account, captures the Python environment, and creates a shareable link for your notebook, as shown above. You can use this link to share your work and let anyone (including you) run your notebooks and reproduce your work."
   ]
  },
  {
   "cell_type": "markdown",
   "id": "5346d74e",
   "metadata": {},
   "source": [
    "## Exercise - Data Analysis for Vacation Planning\n",
    "\n",
    "You're planning a vacation, and you need to decide which city you want to visit. You have shortlisted four cities and identified the return flight cost, daily hotel cost, and weekly car rental cost. While renting a car, you need to pay for entire weeks, even if you return the car sooner.\n",
    "\n",
    "\n",
    "| City | Return Flight (`$`) | Hotel per day (`$`) | Weekly Car Rental  (`$`) | \n",
    "|------|--------------------------|------------------|------------------------|\n",
    "| Paris|       200                |       20         |          200           |\n",
    "| London|      250                |       30         |          120           |\n",
    "| Dubai|       370                |       15         |          80           |\n",
    "| Mumbai|      450                |       10         |          70           |         \n",
    "\n",
    "\n",
    "Answer the following questions using the data above:\n",
    "\n",
    "1. If you're planning a 1-week long trip, which city should you visit to spend the least amount of money?\n",
    "2. How does the answer to the previous question change if you change the trip's duration to four days, ten days or two weeks?\n",
    "3. If your total budget for the trip is `$1000`, which city should you visit to maximize the duration of your trip? Which city should you visit if you want to minimize the duration?\n",
    "4. How does the answer to the previous question change if your budget is `$600`, `$2000`, or `$1500`?\n",
    "\n",
    "*Hint: To answer these questions, it will help to define a function `cost_of_trip` with relevant inputs like flight cost, hotel rate, car rental rate, and duration of the trip. You may find the `math.ceil` function useful for calculating the total cost of car rental.*"
   ]
  },
  {
   "cell_type": "code",
   "execution_count": 23,
   "id": "03a39934",
   "metadata": {},
   "outputs": [],
   "source": [
    "import math\n",
    "# Use these cells to answer the question - build the function step-by-step\n",
    "Paris = [200,20,200,\"Paris\"]\n",
    "London = [250,30,120,\"London\"]\n",
    "Dubai = [370,15,80,\"Dubai\"]\n",
    "Mumbai = [450,10,70,\"Mumbai\"]\n",
    "\n",
    "Cities = [Paris, London, Dubai,Mumbai]\n",
    "\n"
   ]
  },
  {
   "cell_type": "code",
   "execution_count": 24,
   "id": "12aa37b8",
   "metadata": {},
   "outputs": [],
   "source": [
    "def cost_of_trip(flight_cost,hotel_rate,car_rental,duration=0):\n",
    "    \"\"\"Function to calculate cost of a trip\"\"\"\n",
    "    total_cost = flight_cost+(hotel_rate*duration)+(car_rental* math.ceil(duration/7))\n",
    "    return total_cost\n",
    "    \n",
    "    "
   ]
  },
  {
   "cell_type": "code",
   "execution_count": 25,
   "id": "7fffa24a",
   "metadata": {},
   "outputs": [],
   "source": [
    "def number_days(days):\n",
    "    cost = []\n",
    "    for cities in Cities:\n",
    "        costs = cost_of_trip(cities[0],cities[1],cities[2],days)\n",
    "        cost.append((costs,cities[3]))\n",
    "    min_cost = min(cost)\n",
    "    \n",
    "    return min_cost\n",
    "    "
   ]
  },
  {
   "cell_type": "markdown",
   "id": "bf95f53d",
   "metadata": {},
   "source": [
    "> 1. If you're planning a 1-week long trip, which city should you visit to spend the least amount of money?"
   ]
  },
  {
   "cell_type": "code",
   "execution_count": 26,
   "id": "8cc863a3",
   "metadata": {},
   "outputs": [
    {
     "data": {
      "text/plain": [
       "(540, 'Paris')"
      ]
     },
     "execution_count": 26,
     "metadata": {},
     "output_type": "execute_result"
    }
   ],
   "source": [
    "number_days(7)"
   ]
  },
  {
   "cell_type": "markdown",
   "id": "13bd7642",
   "metadata": {},
   "source": [
    "> 2. How does the answer to the previous question change if you change the trip's duration to four days, ten days or two weeks?"
   ]
  },
  {
   "cell_type": "code",
   "execution_count": 27,
   "id": "27471333",
   "metadata": {},
   "outputs": [
    {
     "data": {
      "text/plain": [
       "(480, 'Paris')"
      ]
     },
     "execution_count": 27,
     "metadata": {},
     "output_type": "execute_result"
    }
   ],
   "source": [
    "number_days(4)"
   ]
  },
  {
   "cell_type": "code",
   "execution_count": 28,
   "id": "15be7324",
   "metadata": {},
   "outputs": [
    {
     "data": {
      "text/plain": [
       "(680, 'Dubai')"
      ]
     },
     "execution_count": 28,
     "metadata": {},
     "output_type": "execute_result"
    }
   ],
   "source": [
    "number_days(10)"
   ]
  },
  {
   "cell_type": "code",
   "execution_count": 29,
   "id": "990f48a6",
   "metadata": {},
   "outputs": [
    {
     "data": {
      "text/plain": [
       "(730, 'Mumbai')"
      ]
     },
     "execution_count": 29,
     "metadata": {},
     "output_type": "execute_result"
    }
   ],
   "source": [
    "number_days(14)"
   ]
  },
  {
   "cell_type": "markdown",
   "id": "f746e8e1",
   "metadata": {},
   "source": [
    "> 3. If your total budget for the trip is `$600`, which city should you visit to maximize the duration of your trip? Which city should you visit if you want to minimize the duration?"
   ]
  },
  {
   "cell_type": "code",
   "execution_count": 46,
   "id": "0a4ae5db",
   "metadata": {},
   "outputs": [],
   "source": [
    "def final_budget(budget,less_days = False):\n",
    "    days = 1\n",
    "    cost = 0\n",
    "    while cost>budget:\n",
    "        # copy of city cost\n",
    "        cost_before = cost\n",
    "        try:\n",
    "            #copy of costs dictionary, if exists\n",
    "            cost_before = cost.copy()\n",
    "        except:\n",
    "            #if costs dictionary doesn't exist, create an empty dictionary\n",
    "            cost_before = {}\n",
    "        cost={}\n",
    "        for city in cities:\n",
    "            cost = cost_of_trip(city[0],city[1],city[2],days)\n",
    "            cost[cost]=city[3]\n",
    "        if less_days:\n",
    "            cost = max(list(cost.keys()))\n",
    "            \"\"\"\n",
    "            The while loop breaks only after cost>600 condition is met.\n",
    "            when the condition is met, the costs dictionary updates to values that are greater than 600 \n",
    "            so we check if it is exceeding, if it does, we return the values from the previous dictionary cost_before.\n",
    "            \"\"\"\n",
    "\n",
    "            if cost>=budget :\n",
    "                return cost_before[cost_before],days-1\n",
    "        else:\n",
    "            cost = min(list(cost.keys()))\n",
    "            if cost>=budget:\n",
    "                return cost_before[cost_before],days-1\n",
    "        days+=1\n",
    "                "
   ]
  },
  {
   "cell_type": "code",
   "execution_count": 53,
   "id": "4c18ea50",
   "metadata": {},
   "outputs": [],
   "source": [
    "city_to_stay_maximum_days=final_budget(1200)"
   ]
  },
  {
   "cell_type": "code",
   "execution_count": 59,
   "id": "bb45c14b",
   "metadata": {},
   "outputs": [
    {
     "name": "stdout",
     "output_type": "stream",
     "text": [
      "None\n"
     ]
    }
   ],
   "source": [
    "print(city_to_stay_maximum_days)"
   ]
  },
  {
   "cell_type": "code",
   "execution_count": 64,
   "id": "d6561658",
   "metadata": {},
   "outputs": [
    {
     "name": "stdout",
     "output_type": "stream",
     "text": [
      "None\n"
     ]
    }
   ],
   "source": [
    "city_to_stay_minimum_days=final_budget(600,less_days=True)\n",
    "print(city_to_stay_minimum_days)"
   ]
  },
  {
   "cell_type": "markdown",
   "id": "de551d25",
   "metadata": {},
   "source": [
    "> 4. How does the answer to the previous question change if your budget is `$1000`, `$2000`, or `$1500`?"
   ]
  },
  {
   "cell_type": "code",
   "execution_count": 65,
   "id": "d08a8d01",
   "metadata": {},
   "outputs": [
    {
     "name": "stdout",
     "output_type": "stream",
     "text": [
      "None\n",
      "None\n"
     ]
    }
   ],
   "source": [
    "city_to_stay_minimum_days=final_budget(1000)\n",
    "print(city_to_stay_minimum_days)\n",
    "\n",
    "city_to_stay_minimum_days=final_budget(1000,less_days=True)\n",
    "print(city_to_stay_minimum_days)"
   ]
  },
  {
   "cell_type": "code",
   "execution_count": 67,
   "id": "57145909",
   "metadata": {},
   "outputs": [
    {
     "name": "stdout",
     "output_type": "stream",
     "text": [
      "None\n",
      "None\n"
     ]
    }
   ],
   "source": [
    "city_to_stay_minimum_days=final_budget(2000)\n",
    "print(city_to_stay_minimum_days)\n",
    "\n",
    "city_to_stay_minimum_days=final_budget(2000,less_days=True)\n",
    "print(city_to_stay_minimum_days)"
   ]
  },
  {
   "cell_type": "code",
   "execution_count": 68,
   "id": "11698a01",
   "metadata": {},
   "outputs": [
    {
     "name": "stdout",
     "output_type": "stream",
     "text": [
      "None\n",
      "None\n"
     ]
    }
   ],
   "source": [
    "city_to_stay_minimum_days=final_budget(1500)\n",
    "print(city_to_stay_minimum_days)\n",
    "\n",
    "city_to_stay_minimum_days=final_budget(1500,less_days=True)\n",
    "print(city_to_stay_minimum_days)"
   ]
  },
  {
   "cell_type": "markdown",
   "id": "9031b406",
   "metadata": {},
   "source": [
    "## Summary and Further Reading\n",
    "\n",
    "With this, we complete our discussion of functions in Python. We've covered the following topics in this tutorial:\n",
    "\n",
    "* Creating and using functions\n",
    "* Functions with one or more arguments\n",
    "* Local variables and scope\n",
    "* Returning values using `return`\n",
    "* Using default arguments to make a function flexible\n",
    "* Using named arguments while invoking a function\n",
    "* Importing modules and using library functions\n",
    "* Reusing and improving functions to handle new use cases\n",
    "* Handling exceptions with `try`-`except`\n",
    "* Documenting functions using docstrings\n",
    "\n",
    "This tutorial on functions in Python is by no means exhaustive. Here are a few more topics to learn about:\n",
    "\n",
    "* Functions with an arbitrary number of arguments using (`*args` and `**kwargs`)\n",
    "* Defining functions inside functions (and closures)\n",
    "* A function that invokes itself (recursion)\n",
    "* Functions that accept other functions as arguments or return other functions\n",
    "* Functions that enhance other functions (decorators)\n",
    "\n",
    "Following are some resources to learn about more functions in Python:\n",
    "\n",
    "* Python Tutorial at W3Schools: https://www.w3schools.com/python/\n",
    "* Practical Python Programming: https://dabeaz-course.github.io/practical-python/Notes/Contents.html\n",
    "* Python official documentation: https://docs.python.org/3/tutorial/index.html\n",
    "\n",
    "You are ready to move on to the next tutorial: [\"Reading from and writing to files using Python\"](https://jovian.ml/aakashns/python-os-and-filesystem)."
   ]
  },
  {
   "cell_type": "markdown",
   "id": "eb9f7917",
   "metadata": {},
   "source": [
    "## Questions for Revision\n",
    "\n",
    "Try answering the following questions to test your understanding of the topics covered in this notebook:\n",
    "\n",
    "1. What is a function?\n",
    "\n",
    "* A function is a reusable set of instructions that takes one or more inputs, performs some operations, and often returns an output.\n",
    "\n",
    "2. What are the benefits of using functions?\n",
    "\n",
    "* Functions can accept zero or more values as inputs (also knows as arguments or parameters). Arguments help us write flexible functions that can perform the same operations on different values. Further, functions can return a result that can be stored in a variable or used in other expressions.\n",
    "\n",
    "3. What are some built-in functions in Python?\n",
    "\n",
    "* Python contains many in-built functions like print, len\n",
    "\n",
    "4. How do you define a function in Python? Give an example.\n",
    "\n",
    "* The round brackets or parentheses () and colon : after the function's name. Both are essential parts of the syntax. \n",
    "\n",
    "5. What is the body of a function?\n",
    "\n",
    "* The function's body contains an indented block of statements.\n",
    "\n",
    "6. When are the statements in the body of a function executed?\n",
    "\n",
    "* The statements inside a function's body are not executed when the function is defined. To execute the statements, we need to call or invoke the function.\n",
    "\n",
    "7. What is meant by calling or invoking a function? Give an example.\n",
    "\n",
    "* \n",
    "\n",
    "8. What are function arguments? How are they useful?\n",
    "\n",
    "* Functions can accept zero or more values as inputs (also knows as arguments or parameters). Arguments help us write flexible functions that can perform the same operations on different values.\n",
    "\n",
    "9. How do you store the result of a function in a variable?\n",
    "\n",
    "* unctions can return a result that can be stored in a variable or used in other expressions.\n",
    "\n",
    "10. What is the purpose of the `return` keyword in Python?\n",
    "\n",
    "* To retrun the value from the function which can store the results in variables for easier comparison. We can do this using the return statement\n",
    "\n",
    "11. Can you return multiple values from a function?\n",
    "\n",
    "* Yes\n",
    "\n",
    "12. Can a `return` statement be used inside an `if` block or a `for` loop?\n",
    "\n",
    "* Yes\n",
    "\n",
    "13. Can the `return` keyword be used outside a function?\n",
    "\n",
    "* No, you cannot use return outside a function.\n",
    "\n",
    "14. What is scope in a programming region? \n",
    "\n",
    "* Scope refers to the region within the code where a particular variable is visible.\n",
    "\n",
    "15. How do you define a variable inside a function?\n",
    "\n",
    "* Variables inside a functions are defined using assignment operator.\n",
    "\n",
    "16. What are local & global variables?\n",
    "\n",
    "* Every function (or class definition) defines a scope within Python. Variables defined in this scope are called local variables. Variables that are available everywhere are called global variables. \n",
    "\n",
    "17. Can you access the variables defined inside a function outside its body? Why or why not?\n",
    "\n",
    "* Scope rules allow you to use the same variable names in different functions without sharing values from one to the other.\n",
    "\n",
    "\n",
    "18. What do you mean by the statement \"a function defines a scope within Python\"?\n",
    "\n",
    "* Every function (or class definition) defines a scope within Python. Variables defined in this scope are called local variables. Variables that are available everywhere are called global variables. Scope rules allow you to use the same variable names in different functions without sharing values from one to the other.\n",
    "\n",
    "19. Do for and while loops define a scope, like functions?\n",
    "\n",
    "* Variables declared in for-loop blocks, and while-loop blocks are not local variables, and stay in scope outside of the block. \n",
    "\n",
    "20. Do if-else blocks define a scope, like functions?\n",
    "\n",
    "* Variables declared in if-statements are not local variables, and stay in scope outside of the block. \n",
    "\n",
    "21. What are optional function arguments & default values? Give an example.\n",
    "\n",
    "* Optional Arguments are which we can skip while declaring the function arguments and Default values are, If the aruguments are not passed in the function it will take the default value when we have created a function.\n",
    "\n",
    "22. Why should the required arguments appear before the optional arguments in a function definition?\n",
    "\n",
    "* As per python rules non-default argument has to follows default argument. \n",
    "\n",
    "23. How do you invoke a function with named arguments? Illustrate with an example.\n",
    "\n",
    "* \n",
    "```\n",
    "emi1 = loan_emi(\n",
    "    amount=1260000, \n",
    "    duration=8*12, \n",
    "    rate=0.1/12, \n",
    "    down_payment=3e5\n",
    ")\n",
    "```\n",
    "\n",
    "24. Can you split a function invocation into multiple lines?\n",
    "\n",
    "* You can also split function invocation into multiple lines.\n",
    "\n",
    "25. Write a function that takes a number and rounds it up to the nearest integer.\n",
    "\n",
    "*  ```\n",
    "    def round_up(x):\n",
    "    #round it up & return the result\n",
    "        result = round(x)\n",
    "        return result\n",
    "    \n",
    "    Result:\n",
    "    round_up(7.2)\n",
    "    7    \n",
    "   ```\n",
    "   \n",
    "26. What are modules in Python?\n",
    "\n",
    "*  Modules are files containing Python code (variables, functions, classes, etc.). They provide a way of organizing the code for large Python projects into files and folders.\n",
    "\n",
    "27. What is a Python library?\n",
    "\n",
    "* Python provides a function for it (along with thousands of other functions) as part of the Python Standard Library. \n",
    "\n",
    "28. What is the Python Standard Library?\n",
    "\n",
    "* Python provides a function for it (along with thousands of other functions) as part of the Python Standard Library. \n",
    "\n",
    "29. Where can you learn about the modules and functions available in the Python standard library?\n",
    "\n",
    "* In the official Pyhton documentatation. Or on https://docs.python.org/3/library/\n",
    "\n",
    "30. How do you install a third-party library?\n",
    "\n",
    "* by doing a pip install.\n",
    "\n",
    "31. What is a module namespace? How is it useful?\n",
    "\n",
    "* Namespaces provide encapsulation and avoid naming conflicts between your code and a module or across modules.\n",
    "\n",
    "32. What problems would you run into if Python modules did not provide namespaces?\n",
    "\n",
    "* Namespaces provide encapsulation and avoid naming conflicts between your code and a module or across modules.\n",
    "\n",
    "33. How do you import a module?\n",
    "\n",
    "* by using import Ex: import math\n",
    "\n",
    "34. How do you use a function from an imported module? Illustrate with an example.\n",
    "\n",
    "* by using the modulename . function name. Example math.ceil(1.2)\n",
    "\n",
    "35. Can you invoke a function inside the body of another function? Give an example.\n",
    "\n",
    "* Yes you can invoke anopther function inside a function. Excample below\n",
    "\n",
    "```\n",
    "def round_up(x):\n",
    "    result = round(x)\n",
    "    return result\n",
    "```\n",
    "```\n",
    "def loan_emi(amount, duration, rate, down_payment=0):\n",
    "    loan_amount = amount - down_payment\n",
    "    emi = loan_amount * rate * ((1+rate)**duration) / (((1+rate)**duration)-1)\n",
    "    emi = math.ceil(emi)\n",
    "    return emi\n",
    "```\n",
    "\n",
    "36. What is the single responsibility principle, and how does it apply while writing functions?\n",
    "\n",
    "* Ideally, a function should do one thing and one thing only. As a rule of thumb, try to limit your functions to 10 lines of code or less. Good programmers always write short, simple, and readable functions.\n",
    "\n",
    "37. What some characteristics of well-written functions?\n",
    "\n",
    "* Using functions to build other functions is a great way to reuse code and implement complex business logic while still keeping the code small, understandable, and manageable. \n",
    "\n",
    "38. Can you use if statements or while loops within a function? Illustrate with an example.\n",
    "\n",
    "\n",
    "* Yes: Please see below example. \n",
    "```\n",
    "def prime_num(num):\n",
    "    if num > 1:\n",
    "        for i in range(2,num):\n",
    "            if (num % i) == 0:\n",
    "                print(num,\"is not a prime number\")\n",
    "                print(i,\"times\",num//i,\"is\",num)\n",
    "                break\n",
    "        else:\n",
    "            print(num,\"is a prime number\")\n",
    "# if input number is less than\n",
    "# or equal to 1, it is not prime\n",
    "    else:\n",
    "        print(num,\"is not a prime number\")\n",
    "Result:\n",
    "prime_num(407)\n",
    "\n",
    "407 is not a prime number\n",
    "11 times 37 is 407\n",
    "\n",
    "```\n",
    "\n",
    "39. What are exceptions in Python? When do they occur?\n",
    "\n",
    "*  Errors detected during execution are called exceptions. \n",
    "\n",
    "40. How are exceptions different from syntax errors?\n",
    "\n",
    "* Even if a statement or expression is syntactically correct, it may cause an error when the Python interpreter tries to execute it. \n",
    "\n",
    "41. What are the different types of in-built exceptions in Python? Where can you learn about them?\n",
    "\n",
    "* Python provides many built-in exceptions thrown when built-in operators, functions, or methods are used incorrectly: https://docs.python.org/3/library/exceptions.html#built-in-exceptions. \n",
    "\n",
    "42. How do you prevent the termination of a program due to an exception?\n",
    "\n",
    "* Exceptions typically stop further execution of the program unless handled within the program using try-except statements.\n",
    "\n",
    "43. What is the purpose of the `try`-`except` statements in Python?\n",
    "\n",
    "* When an exception occurs inside a try block, the block's remaining statements are skipped. The except block is executed if the type of exception thrown matches that of the exception being handled. After executing the except block, the program execution returns to the normal flow.\n",
    "\n",
    "44. What is the syntax of the `try`-`except` statements? Give an example.\n",
    "```\n",
    "try:\n",
    "    print(\"Now computing the result..\")\n",
    "    result = 5 /0\n",
    "    print(\"Computation was completed successfully\")\n",
    "except ZeroDivisionError:\n",
    "    print(\"Failed to compute result because you were trying to divide by zero\")\n",
    "    result = None\n",
    "\n",
    "print(result)\n",
    "```\n",
    "45. What happens if an exception occurs inside a `try` block?\n",
    "\n",
    "* When an exception occurs inside a try block, the block's remaining statements are skipped. \n",
    "\n",
    "46. How do you handle two different types of exceptions using `except`? Can you have multiple `except` blocks under a single `try` block?\n",
    "\n",
    "* You can also handle more than one type of exception using multiple except statements. Learn more about exceptions here: https://www.w3schools.com/python/python_try_except.asp .\n",
    "\n",
    "47. How do you create an `except` block to handle any type of exception?\n",
    "\n",
    "*\n",
    "```\n",
    "except:\n",
    "  print(\"Something else went wrong\")\n",
    "```\n",
    "\n",
    "48. Illustrate the usage of `try`-`except` inside a function with an example.\n",
    "\n",
    "```\n",
    "def loan_emi(amount, duration, rate, down_payment=0):\n",
    "    loan_amount = amount - down_payment\n",
    "    try:\n",
    "        emi = loan_amount * rate * ((1+rate)**duration) / (((1+rate)**duration)-1)\n",
    "    except ZeroDivisionError:\n",
    "        emi = loan_amount / duration\n",
    "    emi = math.ceil(emi)\n",
    "    return emi\n",
    "\n",
    "```\n",
    "\n",
    "49. What is a docstring? Why is it useful?\n",
    "\n",
    "* A docstring is simply a string that appears as the first statement within the function body, and is used by the help function.\n",
    "\n",
    "\n",
    "50. How do you display the docstring for a function?\n",
    "\n",
    "* by using \"\"\" \"\"\"\n",
    "\n",
    "51. What are *args and **kwargs? How are they useful? Give an example.\n",
    "\n",
    "* We can pass a variable number of arguments to a function using special symbols. *args (Non-Keyword Arguments) or **kwargs (Keyword Arguments). They are useful when we when we have doubts about the number of  arguments we should pass in a function. \n",
    "\n",
    "Example: \n",
    "```\n",
    "\n",
    "def myFun(*argv):\n",
    "    for arg in argv:\n",
    "        print(arg)\n",
    "  \n",
    "  \n",
    "myFun('Hello', 'Welcome', 'to', 'Jovian ML')\n",
    "```\n",
    "\n",
    "```\n",
    "def myFun(**kwargs):\n",
    "    for key, value in kwargs.items():\n",
    "        print(\"%s == %s\" % (key, value))\n",
    "        \n",
    "myFun(first='Jovian', mid='ML', last='AI')\n",
    "```\n",
    "\n",
    "52. Can you define functions inside functions? \n",
    "\n",
    "* Yes\n",
    "\n",
    "\n",
    "53. What is function closure in Python? How is it useful? Give an example.\n",
    "\n",
    "*  Function closure is also a function which encapsulates data with code.\n",
    "```\n",
    "def funcOut():\n",
    "   print(\"This is outer function.\")\n",
    "   def funcIn():\n",
    "      print(\"This function is defined inside funcOut. \\nThis function(funcIn) is called\\\n",
    "nested function.\")\n",
    "   print(\"We can call nested function here.\")\n",
    "   funcIn()\n",
    "print(\"We are in outer function.\\nCalling funcOut.\")\n",
    "funcOut()\n",
    "\n",
    "```\n",
    "\n",
    "54. What is recursion? Illustrate with an example.\n",
    "\n",
    "* Python also accepts function recursion, which means a defined function can call itself.\n",
    "\n",
    "```\n",
    "def tri_recursion(k):\n",
    "  if(k > 0):\n",
    "    result = k + tri_recursion(k - 1)\n",
    "    print(result)\n",
    "  else:\n",
    "    result = 0\n",
    "  return result\n",
    "\n",
    "print(\"\\n\\nRecursion Example Results\")\n",
    "tri_recursion(6)\n",
    "```\n",
    "\n",
    "55. Can functions accept other functions as arguments? Illustrate with an example.\n",
    "\n",
    "* Wecan pass different types of functions as an argument to another function in the following ways\n",
    "\n",
    "```\n",
    "# Define higher order function\n",
    "def fun(foo):\n",
    "    result = foo('Welcome To AskPython!!')\n",
    "    return result\n",
    " \n",
    "# Define function-1\n",
    "def fun1(str):\n",
    "    return str.lower()\n",
    " \n",
    "# Define function-2\n",
    "def fun2(str):\n",
    "    return str.upper()\n",
    " \n",
    "# Pass funtion-1 as an argument\n",
    "# to fun() function\n",
    "str1 = fun(fun1)\n",
    "print(str1)\n",
    " \n",
    "# Pass funtion-2 as an argument\n",
    "# to fun() function\n",
    "str2 = fun(fun2)\n",
    "print(str2)\n",
    "\n",
    "```\n",
    "\n",
    "56. Can functions return other functions as results? Illustrate with an example.\n",
    "\n",
    "* Function returning another function In Python, functions are objects so, we can return a function from another function. This is possible because functions are treated as first class objects in Python\n",
    "\n",
    "```\n",
    "def add(a, b):\n",
    " \n",
    "    # returning sum of a and b\n",
    "    return a + b\n",
    " \n",
    "def is_true(a):\n",
    " \n",
    "    # returning boolean of a\n",
    "    return bool(a)\n",
    " \n",
    "# calling function\n",
    "res = add(2, 3)\n",
    "print(\"Result of add function is {}\".format(res))\n",
    " \n",
    "res = is_true(2<5)\n",
    "print(\"\\nResult of is_true function is {}\".format(res))\n",
    "```\n",
    "\n",
    "\n",
    "57. What are decorators? How are they useful?\n",
    "\n",
    "* Decorators are a very powerful and useful tool in Python since it allows programmers to modify the behaviour of a function or class. Decorators allow us to wrap another function in order to extend the behaviour of the wrapped function, without permanently modifying it.\n",
    "\n",
    "58. Implement a function decorator which prints the arguments and result of wrapped functions.\n",
    "\n",
    "* \n",
    "59. What are some in-built decorators in Python?\n",
    "\n",
    "* Some commonly used decorators that are built into Python are @classmethod, @staticmethod, and @property.\n",
    "\n",
    "60. What are some popular Python libraries?\n",
    "\n",
    "* Pandas and Numpy, Flask, Seaborn, scikit"
   ]
  },
  {
   "cell_type": "markdown",
   "id": "5acfa270",
   "metadata": {},
   "source": [
    "## Solution for Exercise"
   ]
  },
  {
   "cell_type": "markdown",
   "id": "e8aea232",
   "metadata": {},
   "source": [
    "### Exercise - Data Analysis for Vacation Planning\n",
    "\n",
    "You're planning a vacation, and you need to decide which city you want to visit. You have shortlisted four cities and identified the return flight cost, daily hotel cost, and weekly car rental cost. While renting a car, you need to pay for entire weeks, even if you return the car sooner.\n",
    "\n",
    "\n",
    "| City | Return Flight (`$`) | Hotel per day (`$`) | Weekly Car Rental  (`$`) | \n",
    "|------|--------------------------|------------------|------------------------|\n",
    "| Paris|       200                |       20         |          200           |\n",
    "| London|      250                |       30         |          120           |\n",
    "| Dubai|       370                |       15         |          80           |\n",
    "| Mumbai|      450                |       10         |          70           |         \n",
    "\n",
    "\n",
    "Answer the following questions using the data above:\n",
    "\n",
    "1. If you're planning a 1-week long trip, which city should you visit to spend the least amount of money?\n",
    "2. How does the answer to the previous question change if you change the trip's duration to four days, ten days or two weeks?\n",
    "3. If your total budget for the trip is `$600`, which city should you visit to maximize the duration of your trip? Which city should you visit if you want to minimize the duration?\n",
    "4. How does the answer to the previous question change if your budget is `$1000`, `$2000`, or `$1500`?\n",
    "\n",
    "*Hint: To answer these questions, it will help to define a function `cost_of_trip` with relevant inputs like flight cost, hotel rate, car rental rate, and duration of the trip. You may find the `math.ceil` function useful for calculating the total cost of car rental.*"
   ]
  },
  {
   "cell_type": "code",
   "execution_count": 1,
   "id": "0c7a453f",
   "metadata": {},
   "outputs": [],
   "source": [
    "import math"
   ]
  },
  {
   "cell_type": "code",
   "execution_count": 2,
   "id": "a91e7c7c",
   "metadata": {},
   "outputs": [],
   "source": [
    "Paris=[200,20,200,'Paris']\n",
    "London = [250,30,120,'London']\n",
    "Dubai = [370,15,80,'Dubai']\n",
    "Mumbai = [450,10,70,'Mumbai']\n",
    "Cities = [Paris,London,Dubai,Mumbai]"
   ]
  },
  {
   "cell_type": "code",
   "execution_count": 3,
   "id": "c9ba4cf7",
   "metadata": {},
   "outputs": [],
   "source": [
    "def cost_of_trip(flight,hotel_cost,car_rent,num_of_days=0):\n",
    "    return flight+(hotel_cost*num_of_days)+(car_rent*math.ceil(num_of_days/7))"
   ]
  },
  {
   "cell_type": "code",
   "execution_count": 269,
   "id": "50ac700f",
   "metadata": {},
   "outputs": [],
   "source": [
    "def days_to_visit(days):\n",
    "    costs=[]\n",
    "    for city in Cities:\n",
    "        cost=cost_of_trip(city[0],city[1],city[2],days)\n",
    "        costs.append((cost,city[3]))\n",
    "    min_cost = min(costs)\n",
    "    return min_cost"
   ]
  },
  {
   "cell_type": "markdown",
   "id": "87befde0",
   "metadata": {},
   "source": [
    "> 1. If you're planning a 1-week long trip, which city should you visit to spend the least amount of money?"
   ]
  },
  {
   "cell_type": "code",
   "execution_count": 270,
   "id": "466c2f3e",
   "metadata": {},
   "outputs": [
    {
     "data": {
      "text/plain": [
       "(540, 'Paris')"
      ]
     },
     "execution_count": 270,
     "metadata": {},
     "output_type": "execute_result"
    }
   ],
   "source": [
    "days_to_visit(7)"
   ]
  },
  {
   "cell_type": "markdown",
   "id": "9b23b1ea",
   "metadata": {},
   "source": [
    "> 2. How does the answer to the previous question change if you change the trip's duration to four days, ten days or two weeks?"
   ]
  },
  {
   "cell_type": "code",
   "execution_count": 271,
   "id": "f6195a19",
   "metadata": {},
   "outputs": [
    {
     "data": {
      "text/plain": [
       "(480, 'Paris')"
      ]
     },
     "execution_count": 271,
     "metadata": {},
     "output_type": "execute_result"
    }
   ],
   "source": [
    "days_to_visit(4)"
   ]
  },
  {
   "cell_type": "code",
   "execution_count": 272,
   "id": "66662044",
   "metadata": {},
   "outputs": [
    {
     "data": {
      "text/plain": [
       "(680, 'Dubai')"
      ]
     },
     "execution_count": 272,
     "metadata": {},
     "output_type": "execute_result"
    }
   ],
   "source": [
    "days_to_visit(10)"
   ]
  },
  {
   "cell_type": "code",
   "execution_count": 273,
   "id": "db71691e",
   "metadata": {},
   "outputs": [
    {
     "data": {
      "text/plain": [
       "(730, 'Mumbai')"
      ]
     },
     "execution_count": 273,
     "metadata": {},
     "output_type": "execute_result"
    }
   ],
   "source": [
    "days_to_visit(14)"
   ]
  },
  {
   "cell_type": "markdown",
   "id": "2ffdc84b",
   "metadata": {},
   "source": [
    "> 3. If your total budget for the trip is `$600`, which city should you visit to maximize the duration of your trip? Which city should you visit if you want to minimize the duration?"
   ]
  },
  {
   "cell_type": "code",
   "execution_count": 274,
   "id": "722e8165",
   "metadata": {},
   "outputs": [],
   "source": [
    "def given_budget(budget,less_days=False):\n",
    "    days=1\n",
    "    cost=0\n",
    "    while cost<budget:\n",
    "        #copy of city cost \n",
    "        cost_before=cost\n",
    "        try:\n",
    "            #copy of costs dictionary, if exists\n",
    "            costs_before=costs.copy()\n",
    "        except:\n",
    "            #if costs dictionary doesn't exist, create an empty dictionary\n",
    "            costs_before={}\n",
    "        costs={}\n",
    "        for city in Cities:\n",
    "            cost = cost_of_trip(city[0],city[1],city[2],days)\n",
    "            costs[cost] = city[3]\n",
    "        if less_days:\n",
    "            cost=max(list(costs.keys()))\n",
    "            ''' The while loop breaks only after cost>600 condition is met.\n",
    "            when the condition is met, the costs dictionary updates to values that are greater than 600 \n",
    "            so we check if it is exceeding, if it does, we return the values from the previous dictionary cost_before. '''\n",
    "            if cost>=budget:\n",
    "                return costs_before[cost_before],days-1\n",
    "        else:   \n",
    "            cost=min(list(costs.keys()))\n",
    "            if cost>=budget:\n",
    "                return costs_before[cost_before],days-1\n",
    "        days+=1"
   ]
  },
  {
   "cell_type": "code",
   "execution_count": 275,
   "id": "dc353898",
   "metadata": {},
   "outputs": [],
   "source": [
    "city_to_stay_maximum_days=given_budget(600)"
   ]
  },
  {
   "cell_type": "code",
   "execution_count": 276,
   "id": "4b1940c8",
   "metadata": {},
   "outputs": [
    {
     "name": "stdout",
     "output_type": "stream",
     "text": [
      "('Paris', 7)\n"
     ]
    }
   ],
   "source": [
    "print(city_to_stay_maximum_days)"
   ]
  },
  {
   "cell_type": "code",
   "execution_count": 277,
   "id": "4d8e3e44",
   "metadata": {},
   "outputs": [],
   "source": [
    "city_to_stay_minimum_days=given_budget(600,less_days=True)"
   ]
  },
  {
   "cell_type": "code",
   "execution_count": 278,
   "id": "4835591b",
   "metadata": {},
   "outputs": [
    {
     "name": "stdout",
     "output_type": "stream",
     "text": [
      "('Mumbai', 7)\n"
     ]
    }
   ],
   "source": [
    "print(city_to_stay_minimum_days)"
   ]
  },
  {
   "cell_type": "markdown",
   "id": "966ac5fa",
   "metadata": {},
   "source": [
    "> 4. How does the answer to the previous question change if your budget is `$1000`, `$2000`, or `$1500`?"
   ]
  },
  {
   "cell_type": "markdown",
   "id": "f6a389dd",
   "metadata": {},
   "source": [
    "- For 1000 dollars"
   ]
  },
  {
   "cell_type": "code",
   "execution_count": 279,
   "id": "673b80b4",
   "metadata": {},
   "outputs": [
    {
     "name": "stdout",
     "output_type": "stream",
     "text": [
      "('Mumbai', 26)\n"
     ]
    }
   ],
   "source": [
    "city_to_stay_maximum_days=given_budget(1000)\n",
    "print(city_to_stay_maximum_days)"
   ]
  },
  {
   "cell_type": "code",
   "execution_count": 280,
   "id": "71b5f48f",
   "metadata": {},
   "outputs": [
    {
     "name": "stdout",
     "output_type": "stream",
     "text": [
      "('London', 14)\n"
     ]
    }
   ],
   "source": [
    "city_to_stay_minimum_days=given_budget(1000,less_days=True)\n",
    "print(city_to_stay_minimum_days)"
   ]
  },
  {
   "cell_type": "markdown",
   "id": "7fb9e82c",
   "metadata": {},
   "source": [
    "- For 2000 dollars"
   ]
  },
  {
   "cell_type": "code",
   "execution_count": 281,
   "id": "07343a85",
   "metadata": {},
   "outputs": [
    {
     "name": "stdout",
     "output_type": "stream",
     "text": [
      "('Mumbai', 77)\n"
     ]
    }
   ],
   "source": [
    "city_to_stay_maximum_days=given_budget(2000)\n",
    "print(city_to_stay_maximum_days)"
   ]
  },
  {
   "cell_type": "code",
   "execution_count": 282,
   "id": "f4d3fb27",
   "metadata": {},
   "outputs": [
    {
     "name": "stdout",
     "output_type": "stream",
     "text": [
      "('London', 35)\n"
     ]
    }
   ],
   "source": [
    "city_to_stay_minimum=given_budget(2000,less_days=True)\n",
    "print(city_to_stay_minimum)"
   ]
  },
  {
   "cell_type": "markdown",
   "id": "b5d52042",
   "metadata": {},
   "source": [
    "- For 1500 dollars"
   ]
  },
  {
   "cell_type": "code",
   "execution_count": 283,
   "id": "068e6a04",
   "metadata": {},
   "outputs": [
    {
     "name": "stdout",
     "output_type": "stream",
     "text": [
      "('Mumbai', 49)\n"
     ]
    }
   ],
   "source": [
    "city_to_stay_maximum_days=given_budget(1500)\n",
    "print(city_to_stay_maximum_days)"
   ]
  },
  {
   "cell_type": "code",
   "execution_count": 284,
   "id": "e0ce942f",
   "metadata": {},
   "outputs": [
    {
     "name": "stdout",
     "output_type": "stream",
     "text": [
      "('Paris', 24)\n"
     ]
    }
   ],
   "source": [
    "city_to_stay_minimum_days=given_budget(1500,less_days=True)\n",
    "print(city_to_stay_minimum_days)"
   ]
  },
  {
   "cell_type": "code",
   "execution_count": null,
   "id": "fb4ac830",
   "metadata": {},
   "outputs": [],
   "source": []
  }
 ],
 "metadata": {
  "kernelspec": {
   "display_name": "Python 3 (ipykernel)",
   "language": "python",
   "name": "python3"
  },
  "language_info": {
   "codemirror_mode": {
    "name": "ipython",
    "version": 3
   },
   "file_extension": ".py",
   "mimetype": "text/x-python",
   "name": "python",
   "nbconvert_exporter": "python",
   "pygments_lexer": "ipython3",
   "version": "3.9.7"
  }
 },
 "nbformat": 4,
 "nbformat_minor": 5
}
