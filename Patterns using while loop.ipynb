{
 "cells": [
  {
   "cell_type": "code",
   "execution_count": 5,
   "id": "215fdf3e",
   "metadata": {},
   "outputs": [
    {
     "name": "stdout",
     "output_type": "stream",
     "text": [
      "$\n",
      "$$\n",
      "$$$\n",
      "$$$$\n",
      "$$$$$\n",
      "$$$$\n",
      "$$$\n",
      "$$\n",
      "$\n"
     ]
    }
   ],
   "source": [
    "line = \"$\"\n",
    "max_length = 5\n",
    "\n",
    "while len(line)< max_length:\n",
    "    print(line)\n",
    "    line+=\"$\"\n",
    "while len(line)>0:\n",
    "    print(line)\n",
    "    line=line[:-1]"
   ]
  },
  {
   "cell_type": "code",
   "execution_count": 9,
   "id": "046da732",
   "metadata": {},
   "outputs": [
    {
     "name": "stdout",
     "output_type": "stream",
     "text": [
      "* * * * * \n",
      "* * * * \n",
      "* * * \n",
      "* * \n",
      "* \n"
     ]
    }
   ],
   "source": [
    "i = 1\n",
    "n=5\n",
    "while i <= n :\n",
    "    j = n\n",
    "    while j >= i:\n",
    "        print(\"*\", end = \" \")\n",
    "        j-=1\n",
    "    print()\n",
    "    i+=1"
   ]
  },
  {
   "cell_type": "code",
   "execution_count": 8,
   "id": "2fe6dd8b",
   "metadata": {},
   "outputs": [
    {
     "name": "stdout",
     "output_type": "stream",
     "text": [
      "Enter number of rows : 6\n",
      "* * * * * * \n",
      "* * * * * \n",
      "* * * * \n",
      "* * * \n",
      "* * \n",
      "* \n"
     ]
    }
   ],
   "source": [
    "n = int(input('Enter number of rows : '))\n",
    " \n",
    "i = 1\n",
    "while i <= n :\n",
    "    j = n\n",
    "    while j >= i:\n",
    "        print(\"*\", end = \" \")\n",
    "        j -= 1\n",
    "    print()\n",
    "    i += 1"
   ]
  },
  {
   "cell_type": "code",
   "execution_count": 9,
   "id": "67315a8b",
   "metadata": {},
   "outputs": [
    {
     "name": "stdout",
     "output_type": "stream",
     "text": [
      "Enter the number of rows: 5\n",
      "    *\n",
      "   **\n",
      "  ***\n",
      " ****\n",
      "*****\n"
     ]
    }
   ],
   "source": [
    "def pattern(n):\n",
    "   i = 1\n",
    "   while i<=n:\n",
    "      # printing stars\n",
    "      print(\" \"*(n-i) + \"*\" * i)\n",
    "      i+=1 \n",
    " \n",
    "# take inputs\n",
    "n = int(input('Enter the number of rows: '))\n",
    "\n",
    "# calling function\n",
    "pattern(n)"
   ]
  },
  {
   "cell_type": "code",
   "execution_count": 13,
   "id": "34fc5128",
   "metadata": {},
   "outputs": [
    {
     "name": "stdout",
     "output_type": "stream",
     "text": [
      "    *\n",
      "   **\n",
      "  ***\n",
      " ****\n",
      "*****\n"
     ]
    }
   ],
   "source": [
    "max_length = 5\n",
    "i = 1\n",
    "while i<=max_length:\n",
    "    print(\" \"*(max_length-i) + \"*\" * i)\n",
    "    i+=1\n"
   ]
  },
  {
   "cell_type": "code",
   "execution_count": 9,
   "id": "35d69d36",
   "metadata": {},
   "outputs": [
    {
     "name": "stdout",
     "output_type": "stream",
     "text": [
      "    *\n",
      "   **\n",
      "  ***\n",
      " ****\n",
      "*****\n",
      "*****\n",
      " ****\n",
      "  ***\n",
      "   **\n",
      "    *\n"
     ]
    }
   ],
   "source": [
    "max_length = 5\n",
    "i = 1\n",
    "while i<=max_length:\n",
    "    print(\" \"*(max_length-i) + \"*\" * i)\n",
    "    i+=1\n",
    "\n",
    "i=max_length\n",
    "while i>=1:\n",
    "    # printing stars\n",
    "    print(\" \"*(max_length-i) + \"*\" * i)\n",
    "    i-=1 "
   ]
  },
  {
   "cell_type": "code",
   "execution_count": 3,
   "id": "5932a24f",
   "metadata": {},
   "outputs": [
    {
     "name": "stdout",
     "output_type": "stream",
     "text": [
      "*****\n",
      " ****\n",
      "  ***\n",
      "   **\n",
      "    *\n"
     ]
    }
   ],
   "source": [
    "n=5\n",
    "i=n\n",
    "while i>=1:\n",
    "    # printing stars\n",
    "    print(\" \"*(n-i) + \"*\" * i)\n",
    "    i-=1 "
   ]
  },
  {
   "cell_type": "code",
   "execution_count": 2,
   "id": "b14fedda",
   "metadata": {},
   "outputs": [
    {
     "name": "stdout",
     "output_type": "stream",
     "text": [
      "Enter the number of rows: 5\n",
      "*****\n",
      " ****\n",
      "  ***\n",
      "   **\n",
      "    *\n"
     ]
    }
   ],
   "source": [
    "def pattern(n):\n",
    "   i = n\n",
    "   while i>=1:\n",
    "      # printing stars\n",
    "      print(\" \"*(n-i) + \"*\" * i)\n",
    "      i-=1 \n",
    " \n",
    "# take inputs\n",
    "n = int(input('Enter the number of rows: '))\n",
    "\n",
    "# calling function\n",
    "pattern(n)"
   ]
  },
  {
   "cell_type": "code",
   "execution_count": 13,
   "id": "f00ec878",
   "metadata": {
    "scrolled": true
   },
   "outputs": [
    {
     "name": "stdout",
     "output_type": "stream",
     "text": [
      "         * \n",
      "        * * \n",
      "       * * * \n",
      "      * * * * \n",
      "     * * * * * \n",
      "    * * * * * * \n",
      "   * * * * * * * \n",
      "  * * * * * * * * \n",
      " * * * * * * * * * \n",
      "* * * * * * * * * * \n"
     ]
    }
   ],
   "source": [
    "max_length = 10\n",
    "i = 1\n",
    "while i<=max_length:\n",
    "  # printing stars\n",
    "  print(\" \"*(max_length-i) + \"* \" * i)\n",
    "  i+=1 \n"
   ]
  },
  {
   "cell_type": "code",
   "execution_count": 12,
   "id": "4856673a",
   "metadata": {},
   "outputs": [
    {
     "name": "stdout",
     "output_type": "stream",
     "text": [
      "* * * * * * * * * * \n",
      " * * * * * * * * * \n",
      "  * * * * * * * * \n",
      "   * * * * * * * \n",
      "    * * * * * * \n",
      "     * * * * * \n",
      "      * * * * \n",
      "       * * * \n",
      "        * * \n",
      "         * \n"
     ]
    }
   ],
   "source": [
    "max_length = 10\n",
    "i = 1\n",
    "i=max_length\n",
    "while i>=1:\n",
    "    # printing stars\n",
    "    print(\" \"*(max_length-i) + \"* \" * i)\n",
    "    i-=1 "
   ]
  },
  {
   "cell_type": "code",
   "execution_count": 14,
   "id": "c968ab72",
   "metadata": {},
   "outputs": [
    {
     "name": "stdout",
     "output_type": "stream",
     "text": [
      "Enter the number of rows: 10\n",
      "         *\n",
      "        **\n",
      "       ***\n",
      "      ****\n",
      "     *****\n",
      "    ******\n",
      "   *******\n",
      "  ********\n",
      " *********\n",
      "**********\n",
      " *********\n",
      "  ********\n",
      "   *******\n",
      "    ******\n",
      "     *****\n",
      "      ****\n",
      "       ***\n",
      "        **\n",
      "         *\n"
     ]
    }
   ],
   "source": [
    "def pattern(n):\n",
    "   # print upper triangle\n",
    "   i = 1\n",
    "   while i<n:\n",
    "      # printing stars\n",
    "      print(\" \"*(n-i) + \"*\" * i)\n",
    "      i+=1\n",
    "\n",
    "   # print lower triangle\n",
    "   i = n\n",
    "   while i>=1:\n",
    "      # printing stars\n",
    "      print(\" \"*(n-i) + \"*\" * i)\n",
    "      i-=1\n",
    " \n",
    "# take inputs\n",
    "n = int(input('Enter the number of rows: '))\n",
    "\n",
    "# calling function\n",
    "pattern(n)"
   ]
  },
  {
   "cell_type": "code",
   "execution_count": 16,
   "id": "8bcc4e78",
   "metadata": {},
   "outputs": [
    {
     "name": "stdout",
     "output_type": "stream",
     "text": [
      "         *\n",
      "        **\n",
      "       ***\n",
      "      ****\n",
      "     *****\n",
      "    ******\n",
      "   *******\n",
      "  ********\n",
      " *********\n",
      "**********\n",
      " *********\n",
      "  ********\n",
      "   *******\n",
      "    ******\n",
      "     *****\n",
      "      ****\n",
      "       ***\n",
      "        **\n",
      "         *\n"
     ]
    }
   ],
   "source": [
    "max_length = 10\n",
    "# print upper triangle   \n",
    "i = 1\n",
    "while i<max_length:\n",
    "   # printing stars\n",
    "   print(\" \"*(max_length-i) + \"*\" * i)\n",
    "   i+=1\n",
    "# print lower triangle\n",
    "i = max_length\n",
    "while i>=1:\n",
    "   # printing stars\n",
    "   print(\" \"*(max_length-i) + \"*\" * i)\n",
    "   i-=1\n"
   ]
  },
  {
   "cell_type": "code",
   "execution_count": null,
   "id": "d8f0b877",
   "metadata": {},
   "outputs": [],
   "source": [
    "Today = \"March\"\n",
    "if Today == 'January':\n",
    "    print(\"Today is the year of the sun.\")\n",
    "elif Today == 'February':\n",
    "    print(\"Today is the year of the moon.\")\n",
    "elif Today == 'March':\n",
    "    print(\"Today is the year of Tyr, the god of war.\")\n",
    "elif Today == 'April':\n",
    "    print(\"Today is the year of Odin, the supreme diety.\")\n",
    "elif Today == 'May':\n",
    "    print(\"Today is the year of Thor, the god of thunder.\")\n",
    "elif Today == 'June':\n",
    "    print(\"Today is the year of Frigga, the goddess of beauty.\")\n",
    "elif Today == 'July':\n",
    "    print(\"Today is the year of Saturn, the god of fun and feasting.\")\n",
    "elif Today == 'August':\n",
    "    print(\"Today is the year of Tyr, the god of war.\")\n",
    "elif Today == 'September':\n",
    "    print(\"Today is the year of Odin, the supreme diety.\")\n",
    "elif Today == 'October':\n",
    "    print(\"Today is the year of Thor, the god of thunder.\")\n",
    "elif Today == 'November':\n",
    "    print(\"Today is the year of Frigga, the goddess of beauty.\")\n",
    "elif Today == 'December':\n",
    "    print(\"Today is the year of Saturn, the god of fun and feasting.\")"
   ]
  },
  {
   "cell_type": "code",
   "execution_count": 9,
   "id": "865bfa10",
   "metadata": {},
   "outputs": [
    {
     "name": "stdout",
     "output_type": "stream",
     "text": [
      "Monday\n",
      "Tuesday\n",
      "Wednesday\n"
     ]
    }
   ],
   "source": [
    "days = ['Monday', 'Tuesday', 'Wednesday']\n",
    "fruits = \"apple\"\n",
    "\n",
    "while \"apple\" in fruits:\n",
    "    for day in days:\n",
    "        print(day)\n",
    "    break"
   ]
  },
  {
   "cell_type": "code",
   "execution_count": 10,
   "id": "3fd37c6b",
   "metadata": {},
   "outputs": [
    {
     "name": "stdout",
     "output_type": "stream",
     "text": [
      "1 , 5\n",
      "2 , 6\n",
      "3 , 7\n"
     ]
    }
   ],
   "source": [
    "i = 1\n",
    "j = 5\n",
    "while i < 4:\n",
    "    while j < 8:\n",
    "        print(i, \",\", j)\n",
    "        j = j + 1\n",
    "        i = i + 1"
   ]
  },
  {
   "cell_type": "code",
   "execution_count": null,
   "id": "e7a1454a",
   "metadata": {},
   "outputs": [],
   "source": []
  }
 ],
 "metadata": {
  "kernelspec": {
   "display_name": "Python 3 (ipykernel)",
   "language": "python",
   "name": "python3"
  },
  "language_info": {
   "codemirror_mode": {
    "name": "ipython",
    "version": 3
   },
   "file_extension": ".py",
   "mimetype": "text/x-python",
   "name": "python",
   "nbconvert_exporter": "python",
   "pygments_lexer": "ipython3",
   "version": "3.9.7"
  }
 },
 "nbformat": 4,
 "nbformat_minor": 5
}
