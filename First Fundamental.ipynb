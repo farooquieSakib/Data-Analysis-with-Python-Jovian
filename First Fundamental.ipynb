{
 "cells": [
  {
   "cell_type": "markdown",
   "id": "92b5ec28",
   "metadata": {},
   "source": [
    "# First Steps with Python and Jupyter \n",
    "\n",
    "![](https://i.imgur.com/gvSnw4A.png)\n",
    "\n",
    "\n"
   ]
  },
  {
   "cell_type": "markdown",
   "id": "fb16ddcf",
   "metadata": {},
   "source": [
    "This tutorial covers the following topics:\n",
    "\n",
    "* Performing arithmetic operations using Python\n",
    "* Solving multi-step problems using variables\n",
    "* Evaluating conditions using Python\n",
    "* Combining conditions with logical operators\n",
    "* Adding text styles using Markdown"
   ]
  },
  {
   "cell_type": "markdown",
   "id": "8f1694f4",
   "metadata": {},
   "source": [
    "# How to run the code\n",
    "\n",
    "This tutorial is an executable [Jupyter notebook](https://jupyter.org) hosted on [Jovian](https://www.jovian.ai) (don't worry if these terms seem unfamiliar; we'll learn more about them soon). You can _run_ this tutorial and experiment with the code examples in a couple of ways: *using free online resources* (recommended) or *on your computer*.\n",
    "\n",
    "#### Option 1: Running using free online resources (1-click, recommended)\n",
    "\n",
    "The easiest way to start executing the code is to click the **Run** button at the top of this page and select **Run on Binder**. You can also select \"Run on Colab\" or \"Run on Kaggle\", but you'll need to create an account on [Google Colab](https://colab.research.google.com) or [Kaggle](https://kaggle.com) to use these platforms.\n",
    "\n",
    "\n",
    "#### Option 2: Running on your computer locally\n",
    "\n",
    "To run the code on your computer locally, you'll need to set up [Python](https://www.python.org), download the notebook and install the required libraries. We recommend using the [Conda](https://docs.conda.io/projects/conda/en/latest/user-guide/install/) distribution of Python. Click the **Run** button at the top of this page, select the **Run Locally** option, and follow the instructions.\n",
    "\n",
    ">  **Jupyter Notebooks**: This tutorial is a [Jupyter notebook](https://jupyter.org) - a document made of _cells_. Each cell can contain code written in Python or explanations in plain English. You can execute code cells and view the results, e.g., numbers, messages, graphs, tables, files, etc. instantly within the notebook. Jupyter is a powerful platform for experimentation and analysis. Don't be afraid to mess around with the code & break things - you'll learn a lot by encountering and fixing errors. You can use the \"Kernel > Restart & Clear Output\" menu option to clear all outputs and start again from the top."
   ]
  },
  {
   "cell_type": "markdown",
   "id": "79714cdb",
   "metadata": {},
   "source": [
    "## Performing Arithmetic Operations using Python\n",
    "\n",
    "Let's begin by using Python as a calculator. You can write and execute Python using a code cell within Jupyter. \n",
    "\n",
    "> **Working with cells**: To create a new cell within Jupyter, you can select \"Insert > Insert Cell Below\" from the menu bar or just press the \"+\" button on the toolbar. You can also use the keyboard shortcut `Esc+B` to create a new cell. Once a cell is created, click on it to select it. You can then change the cell type to code or markdown (text) using the \"Cell > Cell Type\" menu option. You can also use the keyboard shortcuts `Esc+Y` and `Esc+M`. Double-click a cell to edit the content within the cell. To apply your changes and run a cell, use the \"Cell > Run Cells\" menu option or click the \"Run\" button on the toolbar or just use the keyboard shortcut `Shift+Enter`. You can see a full list of keyboard shortcuts using the \"Help > Keyboard Shortcuts\" menu option.\n",
    "\n",
    "Run the code cells below to perform calculations and view their result. Try changing the numbers and run the modified cells again to see updated results. Can you guess what the `//`, `%`, and `**` operators are used for?"
   ]
  },
  {
   "cell_type": "code",
   "execution_count": null,
   "id": "a8bff9d9",
   "metadata": {},
   "outputs": [],
   "source": [
    "2+3+9"
   ]
  },
  {
   "cell_type": "code",
   "execution_count": null,
   "id": "a4a635a5",
   "metadata": {},
   "outputs": [],
   "source": [
    "99-77"
   ]
  },
  {
   "cell_type": "code",
   "execution_count": null,
   "id": "c240c070",
   "metadata": {},
   "outputs": [],
   "source": [
    "23.54 *-417"
   ]
  },
  {
   "cell_type": "code",
   "execution_count": null,
   "id": "63b12293",
   "metadata": {},
   "outputs": [],
   "source": [
    "100/7"
   ]
  },
  {
   "cell_type": "code",
   "execution_count": null,
   "id": "85b4c13e",
   "metadata": {},
   "outputs": [],
   "source": [
    "100//7"
   ]
  },
  {
   "cell_type": "code",
   "execution_count": null,
   "id": "ae30c921",
   "metadata": {},
   "outputs": [],
   "source": [
    "100%7"
   ]
  },
  {
   "cell_type": "code",
   "execution_count": null,
   "id": "bd0236db",
   "metadata": {},
   "outputs": [],
   "source": [
    "5**3"
   ]
  },
  {
   "cell_type": "markdown",
   "id": "1830535c",
   "metadata": {},
   "source": [
    "As you might expect, operators like `/` and `*` take precedence over other operators like `+` and `-` as per mathematical conventions. You can use parentheses, i.e. `(` and `)`, to specify the order in which operations are performed."
   ]
  },
  {
   "cell_type": "code",
   "execution_count": null,
   "id": "7803382a",
   "metadata": {},
   "outputs": [],
   "source": [
    "((2 + 5) * (17 - 3)) / (4 ** 3)"
   ]
  },
  {
   "cell_type": "markdown",
   "id": "318f5633",
   "metadata": {},
   "source": [
    "Python supports the following arithmetic operators:\n",
    "\n",
    "| Operator   | Purpose           | Example     | Result    |\n",
    "|------------|-------------------|-------------|-----------|\n",
    "| `+`        | Addition          | `2 + 3`     | `5`       |\n",
    "| `-`        | Subtraction       | `3 - 2`     | `1`       |\n",
    "| `*`        | Multiplication    | `8 * 12`    | `96`      |\n",
    "| `/`        | Division          | `100 / 7`   | `14.28..` |\n",
    "| `//`       | Floor Division    | `100 // 7`  | `14`      |    \n",
    "| `%`        | Modulus/Remainder | `100 % 7`   | `2`       |\n",
    "| `**`       | Exponent          | `5 ** 3`    | `125`     |\n",
    "\n",
    "\n",
    "Try solving some simple problems from this page:\n",
    "https://www.math-only-math.com/worksheet-on-word-problems-on-four-operations.html . \n",
    "\n",
    "You can use the empty cells below and add more cells if required."
   ]
  },
  {
   "cell_type": "code",
   "execution_count": 20,
   "id": "7d9a03da",
   "metadata": {},
   "outputs": [
    {
     "name": "stdout",
     "output_type": "stream",
     "text": [
      "117578\n"
     ]
    }
   ],
   "source": [
    "\"\"\"\n",
    "1. The population of a town is 198568. Out of them 45312 are men and 35678 are women. \n",
    "   Find the number of children in the town.\n",
    "\"\"\"\n",
    "total_pop = 198568\n",
    "total_men = 45312\n",
    "total_women = 35678\n",
    "\n",
    "total_child = total_pop -(total_men + total_women)\n",
    "\n",
    "print(total_child)"
   ]
  },
  {
   "cell_type": "code",
   "execution_count": 21,
   "id": "9ba2f56d",
   "metadata": {},
   "outputs": [
    {
     "name": "stdout",
     "output_type": "stream",
     "text": [
      "58200\n"
     ]
    }
   ],
   "source": [
    "\"\"\"\n",
    "2. A shopkeeper has 2425 boxes of 24 pencils each. How many pencils do all the boxes have in all?\n",
    "\"\"\"\n",
    "\n",
    "Total_boxes = 2425\n",
    "Each_box = 24\n",
    "\n",
    "Total_Pencil = Total_boxes * Each_box\n",
    "\n",
    "print(Total_Pencil)"
   ]
  },
  {
   "cell_type": "code",
   "execution_count": 22,
   "id": "7fa3354a",
   "metadata": {},
   "outputs": [
    {
     "name": "stdout",
     "output_type": "stream",
     "text": [
      "585\n"
     ]
    }
   ],
   "source": [
    "\"\"\"\n",
    "3. Linda bought a coat for $2265 and a saree for $2150. She gave $5000 to the shopkeeper. \n",
    "   How much money did the shopkeeper return to her?\n",
    "\"\"\"\n",
    "\n",
    "Total_Given=5000\n",
    "coat=2265\n",
    "saree = 2150\n",
    "spent = coat+saree\n",
    "returned=Total_Given - spent\n",
    "\n",
    "print(returned)\n"
   ]
  },
  {
   "cell_type": "code",
   "execution_count": 23,
   "id": "21d78fad",
   "metadata": {},
   "outputs": [
    {
     "name": "stdout",
     "output_type": "stream",
     "text": [
      "4564.0\n"
     ]
    }
   ],
   "source": [
    "\"\"\"\n",
    "4. The cost of 21 TV sets is $95844. Find the cost of one TV set.\n",
    "\"\"\"\n",
    "unit = 21\n",
    "total_cost = 95844\n",
    "unit_cost = total_cost /unit\n",
    "\n",
    "print(unit_cost)"
   ]
  },
  {
   "cell_type": "code",
   "execution_count": 24,
   "id": "d11579cc",
   "metadata": {},
   "outputs": [
    {
     "name": "stdout",
     "output_type": "stream",
     "text": [
      "294384\n"
     ]
    }
   ],
   "source": [
    "\"\"\"\n",
    "5. A factory produces 24532 bulbs in a month. What is its annual production?\n",
    "\"\"\"\n",
    "\n",
    "prod_monthly = 24532\n",
    "month = 12\n",
    "\n",
    "yearly_prod = prod_monthly*month\n",
    "\n",
    "print(yearly_prod)"
   ]
  },
  {
   "cell_type": "code",
   "execution_count": 25,
   "id": "3ae919f7",
   "metadata": {},
   "outputs": [
    {
     "name": "stdout",
     "output_type": "stream",
     "text": [
      "67545\n"
     ]
    }
   ],
   "source": [
    "\"\"\"\n",
    "6. There are 145968 bags of sugar, 236487 bags of wheat and some bags of rice in a godown. \n",
    "It the total number of bags in the godown is 450000, find the number of bags of rice.\n",
    "\n",
    "\"\"\"\n",
    "Sugar_bags = 145968\n",
    "Wheat_bags = 236487\n",
    "Total_bags = 450000\n",
    "Rice_bags = Total_bags -(Sugar_bags + Wheat_bags)\n",
    "\n",
    "print (Rice_bags)\n"
   ]
  },
  {
   "cell_type": "code",
   "execution_count": 26,
   "id": "1974c8e7",
   "metadata": {},
   "outputs": [
    {
     "name": "stdout",
     "output_type": "stream",
     "text": [
      "199188\n"
     ]
    }
   ],
   "source": [
    "\"\"\"\n",
    "7. A factory manufactured 483685 toys in three weeks. \n",
    "The production in first week was 146345 toys and in second week 138152 toys. \n",
    "Find the production in the third week.\n",
    "\"\"\"\n",
    "tot_toys = 483685\n",
    "f_week = 146345\n",
    "s_week = 138152\n",
    "t_week = tot_toys - (f_week + s_week)\n",
    "\n",
    "print(t_week)"
   ]
  },
  {
   "cell_type": "code",
   "execution_count": 27,
   "id": "1cc9e876",
   "metadata": {},
   "outputs": [
    {
     "name": "stdout",
     "output_type": "stream",
     "text": [
      "1162128\n"
     ]
    }
   ],
   "source": [
    "\"\"\"\n",
    "8. The cost of a sofa set is $9372. How much will 124 such sofa sets cost?\n",
    "\n",
    "\"\"\"\n",
    "cost = 9372\n",
    "unit = 124\n",
    "total_cost = cost * unit\n",
    "\n",
    "print(total_cost)"
   ]
  },
  {
   "cell_type": "code",
   "execution_count": 28,
   "id": "66cf034f",
   "metadata": {},
   "outputs": [
    {
     "name": "stdout",
     "output_type": "stream",
     "text": [
      "51\n"
     ]
    }
   ],
   "source": [
    "\"\"\"\n",
    "9. There are 86 rooms in a school. 4356 students study there. Equal number of students sits in each room?\n",
    "\n",
    "\"\"\"\n",
    "rooms = 85\n",
    "students = 4356\n",
    "each_room = students // rooms\n",
    "\n",
    "print(each_room)\n"
   ]
  },
  {
   "cell_type": "code",
   "execution_count": 29,
   "id": "717977df",
   "metadata": {},
   "outputs": [
    {
     "name": "stdout",
     "output_type": "stream",
     "text": [
      "21\n"
     ]
    }
   ],
   "source": [
    "\"\"\"\n",
    "10. 1575 students of a school want to go Agra by bus. If one bus can carry 75 students, \n",
    "how many buses are required to carry all the students?\n",
    "\n",
    "\"\"\"\n",
    "student=1575\n",
    "bus = 75\n",
    "req_bus = student // bus\n",
    "print(req_bus)"
   ]
  },
  {
   "cell_type": "code",
   "execution_count": 30,
   "id": "3c7b430b",
   "metadata": {},
   "outputs": [
    {
     "name": "stdout",
     "output_type": "stream",
     "text": [
      "51625\n"
     ]
    }
   ],
   "source": [
    "\"\"\"\n",
    "11. The cost of a radio set is 1475. What is the cost of 35 such radio sets?\n",
    "\n",
    "\"\"\"\n",
    "radio = 1475\n",
    "req_units = 35\n",
    "radio_cost = radio*req_units\n",
    "\n",
    "print(radio_cost)"
   ]
  },
  {
   "cell_type": "code",
   "execution_count": 31,
   "id": "9d1d2ef8",
   "metadata": {},
   "outputs": [
    {
     "name": "stdout",
     "output_type": "stream",
     "text": [
      "134249\n"
     ]
    }
   ],
   "source": [
    "\"\"\"\n",
    "12. In an election, 52496 people voted for Ron, 44929 people for Jhon and 36824 people for Mike in a town. \n",
    "If everyone voted in the town, what is the total number of voters?\n",
    "\n",
    "\"\"\"\n",
    "v_ron=52496\n",
    "v_jhon = 44929\n",
    "v_mike = 36824\n",
    "\n",
    "tot_voter = v_jhon + v_mike + v_ron\n",
    "\n",
    "print(tot_voter)"
   ]
  },
  {
   "cell_type": "code",
   "execution_count": 32,
   "id": "7b1e8b65",
   "metadata": {},
   "outputs": [
    {
     "name": "stdout",
     "output_type": "stream",
     "text": [
      "The unit price for the toys is: 135.0\n",
      "The total price Maria has was: 13975\n"
     ]
    }
   ],
   "source": [
    "\"\"\"\n",
    "13. Maria bought 96 toys priced equally for $12960. The amount of $1015 is still left with her. \n",
    "Find the cost of each toy and the amount she had.\n",
    "\n",
    "\"\"\"\n",
    "toys = 96\n",
    "tot_toy_price=12960\n",
    "unit_price = tot_toy_price / toys\n",
    "\n",
    "print(\"The unit price for the toys is:\", unit_price)\n",
    "\n",
    "amt_left = 1015\n",
    "\n",
    "total_amt = tot_toy_price + amt_left\n",
    "print(\"The total price Maria has was:\", total_amt)\n",
    "\n"
   ]
  },
  {
   "cell_type": "markdown",
   "id": "54988fba",
   "metadata": {},
   "source": [
    "\n",
    "## Solving multi-step problems using variables\n",
    "\n",
    "Let's try solving the following word problem using Python: \n",
    "\n",
    "> A grocery store sells a bag of ice for $1.25 and makes a 20% profit. If it sells 500 bags of ice, how much total profit does it make?\n",
    "\n",
    "We can list out the information provided and gradually convert the word problem into a mathematical expression that can be evaluated using Python. \n",
    "\n",
    "*Cost of ice bag ($)* = 1.25\n",
    "\n",
    "*Profit margin* = 20% = .2\n",
    "\n",
    "*Profit per bag ($)* = profit margin * cost of ice bag = .2 * 1.25\n",
    "\n",
    "*No. of bags* = 500\n",
    "\n",
    "*Total profit* = no. of bags * profit per bag = 500 * (.2 * 1.25)"
   ]
  },
  {
   "cell_type": "code",
   "execution_count": null,
   "id": "f387ac4a",
   "metadata": {},
   "outputs": [],
   "source": [
    "500 *(.2*1.25)"
   ]
  },
  {
   "cell_type": "markdown",
   "id": "5eb2ba69",
   "metadata": {},
   "source": [
    "Thus, the grocery store makes a total profit of $125. While this is a reasonable way to solve a problem, it's not entirely clear by looking at the code cell what the numbers represent. We can give names to each of the numbers by creating Python *variables*.\n",
    "\n",
    "> **Variables**: While working with a programming language such as Python, information is stored in *variables*. You can think of variables as containers for storing data. The data stored within a variable is called its *value*."
   ]
  },
  {
   "cell_type": "code",
   "execution_count": null,
   "id": "a8d86377",
   "metadata": {},
   "outputs": [],
   "source": [
    "cost_of_ice_bag = 1.25"
   ]
  },
  {
   "cell_type": "code",
   "execution_count": null,
   "id": "8f753002",
   "metadata": {},
   "outputs": [],
   "source": [
    "profit_margin = .2"
   ]
  },
  {
   "cell_type": "code",
   "execution_count": null,
   "id": "4aeede56",
   "metadata": {},
   "outputs": [],
   "source": [
    "number_of_bags = 500"
   ]
  },
  {
   "cell_type": "markdown",
   "id": "68192fa9",
   "metadata": {},
   "source": [
    "The variables `cost_of_ice_bag`, `profit_margin`, and `number_of_bags` now contain the information provided in the word problem. We can check the value of a variable by typing its name into a cell. We can combine variables using arithmetic operations to create other variables.\n",
    "\n",
    "> **Code completion**: While typing the name of an existing variable in a code cell within Jupyter, just type the first few characters and press the `Tab` key to autocomplete the variable's name. Try typing `pro` in a code cell below and press `Tab` to autocomplete to `profit_margin`."
   ]
  },
  {
   "cell_type": "code",
   "execution_count": null,
   "id": "3c8980bb",
   "metadata": {},
   "outputs": [],
   "source": [
    "profit_margin"
   ]
  },
  {
   "cell_type": "code",
   "execution_count": null,
   "id": "43e4ee22",
   "metadata": {},
   "outputs": [],
   "source": [
    "profit_per_bag = cost_of_ice_bag * profit_margin"
   ]
  },
  {
   "cell_type": "code",
   "execution_count": null,
   "id": "fb2212ab",
   "metadata": {},
   "outputs": [],
   "source": [
    "profit_per_bag"
   ]
  },
  {
   "cell_type": "code",
   "execution_count": null,
   "id": "2f2ca64c",
   "metadata": {},
   "outputs": [],
   "source": [
    "total_profit = number_of_bags * profit_per_bag"
   ]
  },
  {
   "cell_type": "code",
   "execution_count": null,
   "id": "6ce3b561",
   "metadata": {},
   "outputs": [],
   "source": [
    "total_profit"
   ]
  },
  {
   "cell_type": "markdown",
   "id": "1965b1e2",
   "metadata": {},
   "source": [
    "If you try to view the value of a variable that has not been *defined*, i.e., given a value using the assignment statement `variable_name = value`, Python shows an error."
   ]
  },
  {
   "cell_type": "code",
   "execution_count": null,
   "id": "df27ae9c",
   "metadata": {},
   "outputs": [],
   "source": [
    "net_profit"
   ]
  },
  {
   "cell_type": "code",
   "execution_count": null,
   "id": "06f360f5",
   "metadata": {},
   "outputs": [],
   "source": [
    "net_profit = 100"
   ]
  },
  {
   "cell_type": "code",
   "execution_count": null,
   "id": "1df455f4",
   "metadata": {},
   "outputs": [],
   "source": [
    "net_profit"
   ]
  },
  {
   "cell_type": "markdown",
   "id": "826ee36c",
   "metadata": {},
   "source": [
    "Storing and manipulating data using appropriately named variables is a great way to explain what your code does.\n",
    "\n",
    "Let's display the result of the word problem using a friendly message. We can do this using the `print` *function*.\n",
    "\n",
    "> **Functions**: A function is a reusable set of instructions. It takes one or more inputs, performs certain operations, and often returns an output. Python provides many in-built functions like `print` and also allows us to define our own functions."
   ]
  },
  {
   "cell_type": "code",
   "execution_count": null,
   "id": "46db79da",
   "metadata": {},
   "outputs": [],
   "source": [
    "print(\"The grocery store makes a total profit of $\", total_profit)"
   ]
  },
  {
   "cell_type": "markdown",
   "id": "a85dd3df",
   "metadata": {},
   "source": [
    "> **`print`**: The `print` function is used to display information. It takes one or more inputs, which can be text (within quotes, e.g., `\"this is some text\"`), numbers, variables, mathematical expressions, etc. We'll learn more about variables & functions in the next tutorial.\n",
    "\n",
    "Creating a code cell for each variable or mathematical operation can get tedious. Fortunately, Jupyter allows you to write multiple lines of code within a single code cell. The result of the last line of code within the cell is displayed as the output. \n",
    "\n",
    "Let's rewrite the solution to our word problem within a single cell."
   ]
  },
  {
   "cell_type": "code",
   "execution_count": null,
   "id": "9b58c872",
   "metadata": {},
   "outputs": [],
   "source": [
    "# Store input data in variables\n",
    "cost_of_ice_bag = 1.25\n",
    "profit_margin = .2\n",
    "number_of_bags = 500\n",
    "\n",
    "# Perform the required calculations\n",
    "profit_per_bag = cost_of_ice_bag * profit_margin\n",
    "total_profit = number_of_bags * profit_per_bag\n",
    "\n",
    "# Display the result\n",
    "print(\"The grocery store makes a total profit of $\", total_profit)"
   ]
  },
  {
   "cell_type": "markdown",
   "id": "48f08173",
   "metadata": {},
   "source": [
    "Note that we're using the `#` character to add *comments* within our code. \n",
    "\n",
    "> **Comments**: Comments and blank lines are ignored during execution, but they are useful for providing information to humans (including yourself) about what the code does. Comments can be inline (at the end of some code), on a separate line, or even span multiple lines. \n",
    "\n",
    "Inline and single-line comments start with `#`, whereas multi-line comments begin and end with three quotes, i.e. `\"\"\"`. Here are some examples of code comments:"
   ]
  },
  {
   "cell_type": "code",
   "execution_count": null,
   "id": "8206b566",
   "metadata": {},
   "outputs": [],
   "source": [
    "my_favorite_number = 1 # an inline comment"
   ]
  },
  {
   "cell_type": "code",
   "execution_count": null,
   "id": "9c82b0b9",
   "metadata": {},
   "outputs": [],
   "source": [
    "# This comment gets its own line\n",
    "my_least_favorite_number = 3"
   ]
  },
  {
   "cell_type": "code",
   "execution_count": null,
   "id": "5f94ef35",
   "metadata": {},
   "outputs": [],
   "source": [
    "\"\"\"This is a multi-line comment.\n",
    "Write as little or as much as you'd like.\n",
    "\n",
    "Comments are really helpful for people reading\n",
    "your code, but try to keep them short & to-the-point.\n",
    "\n",
    "Also, if you use good variable names, then your code is\n",
    "often self explanatory, and you may not even need comments!\n",
    "\"\"\"\n",
    "a_neutral_number = 5"
   ]
  },
  {
   "cell_type": "markdown",
   "id": "9c904830",
   "metadata": {},
   "source": [
    "\n",
    "\n",
    "> **EXERCISE**: A travel company wants to fly a plane to the Bahamas. Flying the plane costs 5000 dollars. So far, 29 people have signed up for the trip. If the company charges 200 dollars per ticket, what is the profit made by the company? Create variables for each numeric quantity and use appropriate arithmetic operations."
   ]
  },
  {
   "cell_type": "code",
   "execution_count": null,
   "id": "f6e3bdfa",
   "metadata": {},
   "outputs": [],
   "source": [
    "plane_cost = 5000\n",
    "passengers = 29\n",
    "per_ticket = 200\n",
    "total_revenue = passengers * per_ticket\n",
    "\n",
    "print(\"The total earning is: \", total_revenue)\n",
    "\n",
    "profit = total_revenue - plane_cost\n",
    "\n",
    "print(\"The total profit for the travel company is:\", profit)\n"
   ]
  },
  {
   "cell_type": "markdown",
   "id": "c8ebe6a9",
   "metadata": {},
   "source": [
    "## Evaluating conditions using Python\n",
    "\n",
    "Apart from arithmetic operations, Python also provides several operations for comparing numbers & variables.\n",
    "\n",
    "| Operator    | Description                                                     |\n",
    "|-------------|-----------------------------------------------------------------|\n",
    "| `==`        | Check if operands are equal                                     |\n",
    "| `!=`        | Check if operands are not equal                                 |\n",
    "| `>`         | Check if left operand is greater than right operand             |\n",
    "| `<`         | Check if left operand is less than right operand                |\n",
    "| `>=`        | Check if left operand is greater than or equal to right operand |\n",
    "| `<=`        | Check if left operand is less than or equal to right operand    |\n",
    "\n",
    "The result of a comparison operation is either `True` or `False` (note the uppercase `T` and `F`). These are special keywords in Python. Let's try out some experiments with comparison operators."
   ]
  },
  {
   "cell_type": "code",
   "execution_count": null,
   "id": "071223d5",
   "metadata": {},
   "outputs": [],
   "source": [
    "my_favorite_number = 1\n",
    "my_least_favorite_number = 5\n",
    "a_neutral_number = 3"
   ]
  },
  {
   "cell_type": "code",
   "execution_count": null,
   "id": "44d03cd6",
   "metadata": {},
   "outputs": [],
   "source": [
    "# Equality check - True\n",
    "my_favorite_number == 1"
   ]
  },
  {
   "cell_type": "code",
   "execution_count": null,
   "id": "e476f747",
   "metadata": {},
   "outputs": [],
   "source": [
    "# Equality check - False\n",
    "my_favorite_number == my_least_favorite_number"
   ]
  },
  {
   "cell_type": "code",
   "execution_count": null,
   "id": "1f6b6e93",
   "metadata": {},
   "outputs": [],
   "source": [
    "# Not equal check - True\n",
    "my_favorite_number != a_neutral_number"
   ]
  },
  {
   "cell_type": "code",
   "execution_count": null,
   "id": "2dc6214e",
   "metadata": {},
   "outputs": [],
   "source": [
    "# Not equal check - False\n",
    "a_neutral_number != 3"
   ]
  },
  {
   "cell_type": "code",
   "execution_count": null,
   "id": "626a62f4",
   "metadata": {},
   "outputs": [],
   "source": [
    "# Greater than check - True\n",
    "my_least_favorite_number > a_neutral_number"
   ]
  },
  {
   "cell_type": "code",
   "execution_count": null,
   "id": "0fe56c28",
   "metadata": {},
   "outputs": [],
   "source": [
    "# Greater than check - False\n",
    "my_favorite_number > my_least_favorite_number"
   ]
  },
  {
   "cell_type": "code",
   "execution_count": null,
   "id": "6ba35501",
   "metadata": {},
   "outputs": [],
   "source": [
    "# Less than check - True\n",
    "my_favorite_number < 10"
   ]
  },
  {
   "cell_type": "code",
   "execution_count": null,
   "id": "e30e3bdf",
   "metadata": {},
   "outputs": [],
   "source": [
    "# Less than check - False\n",
    "my_least_favorite_number < my_favorite_number"
   ]
  },
  {
   "cell_type": "code",
   "execution_count": null,
   "id": "03d12743",
   "metadata": {},
   "outputs": [],
   "source": [
    "# Greater than or equal check - True\n",
    "my_favorite_number >= 1"
   ]
  },
  {
   "cell_type": "code",
   "execution_count": null,
   "id": "344d4866",
   "metadata": {},
   "outputs": [],
   "source": [
    "# Greater than or equal check - False\n",
    "my_favorite_number >= 3"
   ]
  },
  {
   "cell_type": "code",
   "execution_count": null,
   "id": "8eab2eb6",
   "metadata": {},
   "outputs": [],
   "source": [
    "# Less than or equal check - True\n",
    "3 + 6 <= 9"
   ]
  },
  {
   "cell_type": "code",
   "execution_count": null,
   "id": "a1d4ad2e",
   "metadata": {},
   "outputs": [],
   "source": [
    "# Less than or equal check - False\n",
    "my_favorite_number + a_neutral_number <= 3"
   ]
  },
  {
   "cell_type": "markdown",
   "id": "731aff4f",
   "metadata": {},
   "source": [
    "Just like arithmetic operations, the result of a comparison operation can also be stored in a variable."
   ]
  },
  {
   "cell_type": "code",
   "execution_count": null,
   "id": "4563e9ee",
   "metadata": {},
   "outputs": [],
   "source": [
    "cost_of_ice_bag = 1.25\n",
    "is_ice_bag_expensive = cost_of_ice_bag >= 10\n",
    "print(\"Is the ice bag expensive?\", is_ice_bag_expensive)"
   ]
  },
  {
   "cell_type": "markdown",
   "id": "9ce7c244",
   "metadata": {},
   "source": [
    "## Combining conditions with logical operators\n",
    "\n",
    "The logical operators `and`, `or` and `not` operate upon conditions and `True` & `False` values (also known as *booleans*). `and` and `or` operate on two conditions, whereas `not` operates on a single condition.\n",
    "\n",
    "The `and` operator returns `True` when both the conditions evaluate to `True`. Otherwise, it returns `False`.\n",
    "\n",
    "| `a`     | `b`    | `a and b` |\n",
    "|---------|--------|-----------|\n",
    "|  `True` | `True` | `True`    |\n",
    "|  `True` | `False`| `False`   |\n",
    "|  `False`| `True` | `False`   |\n",
    "|  `False`| `False`| `False`   |\n"
   ]
  },
  {
   "cell_type": "code",
   "execution_count": null,
   "id": "167d5501",
   "metadata": {},
   "outputs": [],
   "source": [
    "my_favorite_number"
   ]
  },
  {
   "cell_type": "code",
   "execution_count": null,
   "id": "42896548",
   "metadata": {},
   "outputs": [],
   "source": [
    "my_favorite_number > 0 and my_favorite_number <= 3"
   ]
  },
  {
   "cell_type": "code",
   "execution_count": null,
   "id": "70b786db",
   "metadata": {},
   "outputs": [],
   "source": [
    "my_favorite_number < 0 and my_favorite_number <= 3"
   ]
  },
  {
   "cell_type": "code",
   "execution_count": null,
   "id": "2cca32fb",
   "metadata": {},
   "outputs": [],
   "source": [
    "my_favorite_number > 0 and my_favorite_number >= 3"
   ]
  },
  {
   "cell_type": "code",
   "execution_count": null,
   "id": "4defba5c",
   "metadata": {},
   "outputs": [],
   "source": [
    "True and False"
   ]
  },
  {
   "cell_type": "code",
   "execution_count": null,
   "id": "ea9ae0fc",
   "metadata": {},
   "outputs": [],
   "source": [
    "True and True"
   ]
  },
  {
   "cell_type": "markdown",
   "id": "4b2e3397",
   "metadata": {},
   "source": [
    "The `or` operator returns `True` if at least one of the conditions evaluates to `True`. It returns `False` only if both conditions are `False`.\n",
    "\n",
    "| `a`     | `b`    | `a or b`  |\n",
    "|---------|--------|-----------|\n",
    "|  `True` | `True` | `True`    |\n",
    "|  `True` | `False`| `True`    |\n",
    "|  `False`| `True` | `True`    |\n",
    "|  `False`| `False`| `False`   |\n",
    "\n"
   ]
  },
  {
   "cell_type": "code",
   "execution_count": null,
   "id": "9499fdf0",
   "metadata": {},
   "outputs": [],
   "source": [
    "a_neutral_number = 3"
   ]
  },
  {
   "cell_type": "code",
   "execution_count": null,
   "id": "66082664",
   "metadata": {},
   "outputs": [],
   "source": [
    "a_neutral_number == 3 or my_favorite_number < 0"
   ]
  },
  {
   "cell_type": "code",
   "execution_count": null,
   "id": "fd5d8d76",
   "metadata": {},
   "outputs": [],
   "source": [
    "a_neutral_number != 3 or my_favorite_number < 0"
   ]
  },
  {
   "cell_type": "code",
   "execution_count": null,
   "id": "c3a7254b",
   "metadata": {},
   "outputs": [],
   "source": [
    "my_favorite_number < 0 or True"
   ]
  },
  {
   "cell_type": "code",
   "execution_count": null,
   "id": "6174f15a",
   "metadata": {},
   "outputs": [],
   "source": [
    "False or False"
   ]
  },
  {
   "cell_type": "markdown",
   "id": "1222be14",
   "metadata": {},
   "source": [
    "The `not` operator returns `False` if a condition is `True` and `True` if the condition is `False`."
   ]
  },
  {
   "cell_type": "code",
   "execution_count": null,
   "id": "d73ea81c",
   "metadata": {},
   "outputs": [],
   "source": [
    "not a_neutral_number == 3"
   ]
  },
  {
   "cell_type": "code",
   "execution_count": null,
   "id": "21cd3f1d",
   "metadata": {},
   "outputs": [],
   "source": [
    "not my_favorite_number < 0"
   ]
  },
  {
   "cell_type": "code",
   "execution_count": null,
   "id": "e4c9c73c",
   "metadata": {},
   "outputs": [],
   "source": [
    "not False"
   ]
  },
  {
   "cell_type": "code",
   "execution_count": null,
   "id": "b50efb4d",
   "metadata": {},
   "outputs": [],
   "source": [
    "not True"
   ]
  },
  {
   "cell_type": "markdown",
   "id": "c659f0a0",
   "metadata": {},
   "source": [
    "Logical operators can be combined to form complex conditions. Use round brackets or parentheses `(` and `)` to indicate the order in which logical operators should be applied."
   ]
  },
  {
   "cell_type": "code",
   "execution_count": null,
   "id": "09c26572",
   "metadata": {},
   "outputs": [],
   "source": [
    "(2 > 3 and 4 <= 5) or not (my_favorite_number < 0 and True)"
   ]
  },
  {
   "cell_type": "code",
   "execution_count": null,
   "id": "cb2282c9",
   "metadata": {},
   "outputs": [],
   "source": [
    "not (True and 0 < 1) or (False and True)"
   ]
  },
  {
   "cell_type": "markdown",
   "id": "4aac41fa",
   "metadata": {},
   "source": [
    "If parentheses are not used, logical operators are applied from left to right."
   ]
  },
  {
   "cell_type": "code",
   "execution_count": null,
   "id": "757df471",
   "metadata": {},
   "outputs": [],
   "source": [
    "not True and 0 < 1 or False and True"
   ]
  },
  {
   "cell_type": "markdown",
   "id": "6a55e687",
   "metadata": {},
   "source": [
    "Experiment with arithmetic, conditional and logical operators in Python using the interactive nature of Jupyter notebooks. We will learn more about variables and functions in future tutorials."
   ]
  },
  {
   "cell_type": "markdown",
   "id": "94915212",
   "metadata": {},
   "source": [
    "## Adding text styles using Markdown\n",
    "\n",
    "Adding explanations using text cells (like this one) is a great way to make your notebook informative for other readers. It is also useful if you need to refer back to it in the future. You can double click on a text cell within Jupyter to edit it. In the edit mode, you'll notice that the text looks slightly different (for instance, the heading has a `##` prefix. This text is written using Markdown, a simple way to add styles to your text. Execute this cell to see the output without the special characters. You can switch back and forth between the source and the output to apply a specific style.\n",
    "\n",
    "For instance, you can use one or more `#` characters at the start of a line to create headers of different sizes:\n",
    "\n",
    "# Header 1\n",
    "\n",
    "## Header 2\n",
    "\n",
    "### Header 3\n",
    "\n",
    "#### Header 4\n",
    "\n",
    "To create a bulleted or numbered list, simply start a line with `*` or `1.`.\n",
    "\n",
    "A bulleted list:\n",
    "\n",
    "* Item 1\n",
    "* Item 2\n",
    "* Item 3\n",
    "\n",
    "A numbered list:\n",
    "\n",
    "1. Apple\n",
    "2. Banana\n",
    "3. Pineapple\n",
    "\n",
    "You can make some text bold using `**`, e.g., **some bold text**, or make it italic using `*`, e.g., *some italic text.* You can also create links, e.g., [a link](https://jovian.ai). Images are easily embedded too:\n",
    "\n",
    "![](https://i.imgur.com/3gjZMYK.png)\n",
    "\n",
    "Another really nice feature of Markdown is the ability to include blocks of code. Note that code blocks inside Markdown cells cannot be executed.\n",
    "\n",
    "```\n",
    "# Perform the required calculations\n",
    "profit_per_bag = cost_of_ice_bag * profit_margin\n",
    "total_profit = number_of_bags * profit_per_bag\n",
    "\n",
    "# Display the result\n",
    "print(\"The grocery store makes a total profit of $\", total_profit)\n",
    "\n",
    "```\n",
    "\n",
    "You can learn the full syntax of Markdown here: https://learnxinyminutes.com/docs/markdown/"
   ]
  },
  {
   "cell_type": "markdown",
   "id": "4d993c2c",
   "metadata": {},
   "source": [
    "## Save and upload your notebook\n",
    "\n",
    "Whether you're running this Jupyter notebook online or on your computer, it's essential to save your work from time to time. You can continue working on a saved notebook later or share it with friends and colleagues to let them execute your code. [Jovian](https://jovian.ai/platform-features) offers an easy way of saving and sharing your Jupyter notebooks online.\n",
    "\n",
    "First, you need to install the Jovian python library if it isn't already installed."
   ]
  },
  {
   "cell_type": "code",
   "execution_count": null,
   "id": "8be93fea",
   "metadata": {},
   "outputs": [],
   "source": [
    "!pip install jovian --upgrade --quiet"
   ]
  },
  {
   "cell_type": "markdown",
   "id": "171ac529",
   "metadata": {},
   "source": [
    "Next, the library needs to be imported."
   ]
  },
  {
   "cell_type": "code",
   "execution_count": null,
   "id": "5460cf33",
   "metadata": {},
   "outputs": [],
   "source": [
    "import jovian"
   ]
  },
  {
   "cell_type": "markdown",
   "id": "28b3897a",
   "metadata": {},
   "source": [
    "Finally, you can run `jovian.commit` to capture and upload a snapshot of the notebook."
   ]
  },
  {
   "cell_type": "code",
   "execution_count": null,
   "id": "c8d47b14",
   "metadata": {},
   "outputs": [],
   "source": [
    "jovian.commit(project='first-steps-with-python')"
   ]
  },
  {
   "cell_type": "markdown",
   "id": "1118c9a4",
   "metadata": {},
   "source": [
    "The first time you run `jovian.commit`, you'll be asked to provide an _API Key_ to securely upload the notebook to your Jovian account. You can get the API key from your [Jovian profile page](https://jovian.ai) after logging in / signing up.\n",
    "\n",
    "<img src=\"https://i.imgur.com/taLLUVd.png\" width=\"480\">\n",
    "\n",
    "`jovian.commit` uploads the notebook to your Jovian account, captures the Python environment, and creates a shareable link for your notebook, as shown above. You can use this link to share your work and let anyone (including you) run your notebooks and reproduce your work. Jovian also includes a powerful commenting interface, so you can discuss & comment on specific parts of your notebook:\n",
    "\n",
    "![https://jovian.ai/docs/user-guide/upload.html](https://i.imgur.com/kxx3pqM.png)\n",
    "\n",
    "You can do a lot more with the `jovian` Python library. Visit the documentation site to learn more: https://jovian.ai/docs/index.html"
   ]
  },
  {
   "cell_type": "markdown",
   "id": "aef55a95",
   "metadata": {},
   "source": [
    "## Further Reading and References\n",
    "\n",
    "Following are some resources where you can learn about more arithmetic, conditional and logical operations in Python:\n",
    "\n",
    "* Python Tutorial at W3Schools: https://www.w3schools.com/python/\n",
    "* Practical Python Programming: https://dabeaz-course.github.io/practical-python/Notes/Contents.html\n",
    "* Python official documentation: https://docs.python.org/3/tutorial/index.html\n",
    "\n",
    "Now that you have taken your first steps with Python, you are ready to move on to the next tutorial: [\"A Quick Tour of Variables and Data Types in Python\"](https://jovian.ml/aakashns/python-variables-and-data-types)."
   ]
  },
  {
   "cell_type": "markdown",
   "id": "5aeed59f",
   "metadata": {},
   "source": [
    "## Questions for Revision\n",
    "\n",
    "Try answering the following questions to test your understanding of the topics covered in this notebook:\n",
    "\n",
    "1. What is a Jupyter notebook? \n",
    "\n",
    "Ans: Jupyter notebook is an ide, which is a document made up of cells, where we write, execute our python scripts.\n",
    "\n",
    "2. How do you add a new code cell below an existing cell?\n",
    "\n",
    "Ans: By pressing the Esc + b.\n",
    "\n",
    "3. How do you add a new Markdown cell below an existing cell?\n",
    "\n",
    "Ans: You insert a new cell below and click on cell ==> cell type ==> markdown. Or shortcut is esc + b + m\n",
    "\n",
    "4. How do you convert a code cell to a Markdown cell or vice versa?\n",
    "\n",
    "Ans: By using keyboard shortcuts Esc+Y (for code) and Esc+M (for Markdown)\n",
    "\n",
    "5. How do you execute a code cell within Jupyter?\n",
    "\n",
    "Ans: Use the \"Cell ==> Run Cells\" menu option or click the \"Run\" button on the toolbar or just use the keyboard shortcut Shift+Enter.\n",
    "\n",
    "6. What the different arithmetic operations supported in Python?\n",
    "\n",
    "Ans: Arithmetic operators supported in python are : Addition, Substraction, Multiplication, Division, Floor Division\n",
    "Exponent, Modulus\n",
    "\n",
    "7. How do you perform arithmetic operations using Python?\n",
    "\n",
    "Ans: by using the arithmetic operators i.e. +, -, * , / , //, % , **\n",
    "\n",
    "8. What is the difference between the `/` and the `//` operators?\n",
    "\n",
    "Ans : '/' is a division operator and give the result in decimals returns type float and '//' is a floor divison which give the nearest whole number and returns type int.\n",
    "\n",
    "9. What is the difference between the `*` and the `**` operators?\n",
    "\n",
    "Ans: '*' multiplies the number and '**' multiples the number to the raise to power \n",
    "\n",
    "10. What is the order of precedence for arithmetic operators in Python?\n",
    "\n",
    "Ans: Operators like `/` and `*` take precedence over other operators like `+` and `-` as per mathematical conventions. \n",
    "\n",
    "11. How do you specify the order in which arithmetic operations are performed in an expression involving multiple operators?\n",
    "\n",
    "Ans: You can use parentheses, i.e. `(` and `)`, to specify the order in which operations are performed.\n",
    "\n",
    "12. How do you solve a multi-step arithmetic word problem using Python?\n",
    "\n",
    "Ans: By making use of variables.\n",
    "\n",
    "13. What are variables? Why are they useful?\n",
    "\n",
    "Ans: While working with a programming language such as Python, information is stored in variables. You can think of variables as containers for storing data. The data stored within a variable is called its value.\n",
    "\n",
    "14. How do you create a variable in Python?\n",
    "\n",
    "Ans: By giving a value using the assignment statement ex: `variable_name = value`\n",
    "\n",
    "15. What is the assignment operator in Python?\n",
    "\n",
    "Ans: '=' is the assignment operator \n",
    "\n",
    "16. What are the rules for naming a variable in Python?\n",
    "\n",
    "Ans: Vairable needs to start with an alphabet or `_`. It cannot start with a number, It cannot be a reserved keywords.0\n",
    "\n",
    "17. How do you view the value of a variable?\n",
    "\n",
    "Ans: We can check the value of a variable by typing its name into a cell. or by making use of print() function.\n",
    "\n",
    "18. How do you store the result of an arithmetic expression in a variable?\n",
    "\n",
    "Ans: We can combine variables using arithmetic operations to create other variables. and then by using the assignment operator. \n",
    "\n",
    "19. What happens if you try to access a variable that has not been defined?\n",
    "\n",
    "And: Python shows an error.\n",
    "\n",
    "20. How do you display messages in Python?\n",
    "\n",
    "Ans: by making use of print() function\n",
    "\n",
    "21. What type of inputs can the print function accept?\n",
    "\n",
    "Ans: It takes one or more inputs, which can be text (within quotes, e.g., \"this is some text\"), numbers, variables, mathematical expressions, etc\n",
    "\n",
    "22. What are code comments? How are they useful?\n",
    "\n",
    "And: Ans: by using the `#` character. They are useful for providing information about what the code does\n",
    "\n",
    "23. What are the different ways of creating comments in Python code?\n",
    "\n",
    "Ans: Inline and single-line comments start with #, whereas multi-line comments begin and end with three quotes, i.e. \"\"\"\n",
    "\n",
    "24. What are the different comparison operations supported in Python?\n",
    "\n",
    "Ans: `==` ,`!=` , `>`,`<`,`>=`,`<=`\n",
    "\n",
    "25. What is the result of a comparison operation?\n",
    "\n",
    "Ans: The result of a comparison operation is either `True` or `False`\n",
    "\n",
    "26. What is the difference between `=` and `==` in Python?\n",
    "\n",
    "Ans:  `=` is an assigment operator and assigns a value. `==` is a comparison operator and check for the operands are equal.\n",
    "\n",
    "27. What are the logical operators supported in Python?\n",
    "\n",
    "Ans: The logical operators `and`, `or` and `not`\n",
    "\n",
    "28. What is the difference between the `and` and `or` operators?\n",
    "\n",
    "Ans: The `and` operator returns `True` when both the conditions evaluate to `True`.Otherwise, it returns `False`\n",
    "     The or operator returns True if at least one of the conditions evaluates to True. It returns False only if both conditions are False.\n",
    "\n",
    "29. Can you use comparison and logical operators in the same expression?\n",
    "\n",
    "Ans: Logical operators can be combined with logical operators to form complex conditions. \n",
    "\n",
    "30. What is the purpose of using parentheses in arithmetic or logical expressions?\n",
    "\n",
    "Ans: Use round brackets or parentheses ( and ) to indicate the order in which logical operators should be applied.\n",
    "\n",
    "31. What is Markdown? Why is it useful?\n",
    "\n",
    "Ans: Markdown is adding explanations using text cells. It is useful in a way to make your notebook informative for other readers.\n",
    "\n",
    "32. How do you create headings of different sizes using Markdown?\n",
    "\n",
    "Ans: You can use one or more `#` characters at the start of a line to create headers of different sizes. Example below.\n",
    "\n",
    "# Header 1\n",
    "\n",
    "## Header 2\n",
    "\n",
    "### Header 3\n",
    "\n",
    "#### Header 4\n",
    "\n",
    "33. How do you create bulleted and numbered lists using Markdown?\n",
    "\n",
    "Ans: To create a bulleted or numbered list, simply start a line with `*` or `1.`.\n",
    "\n",
    "A bulleted list:\n",
    "* Item 1\n",
    " and \n",
    "\n",
    "A numbered list:\n",
    "1. Apple\n",
    "\n",
    "34. How do you create bold or italic text using Markdown?\n",
    "\n",
    "Ans: You can make some text bold using `**` and make it italic using `*`\n",
    "\n",
    "35. How do you include links & images within Markdown cells?\n",
    "\n",
    "Ans: You can create a links, e.g., [a link](https://google.com)\n",
    "\n",
    "Images can be adde in the markdown as below:\n",
    "\n",
    "![](https://i.imgur.com/3gjZMYK.png)\n",
    "\n",
    "36. How do you include code blocks within Markdown cells?\n",
    "\n",
    "Ans: By using  ```Code block```\n",
    "\n",
    "37. Is it possible to execute the code blocks within Markdown cells?\n",
    "\n",
    "Ans: No it cannot be executed. \n",
    "\n",
    "\n",
    "38. How do you upload and share your Jupyter notebook online using Jovian?\n",
    "\n",
    "Ans: First, you need to install the Jovian python library if it isn't already installed.\n",
    "\n",
    "!pip install jovian --upgrade --quiet\n",
    "\n",
    "import jovian\n",
    "\n",
    "Finally, you can run jovian.commit to capture and upload a snapshot of the notebook.\n",
    "jovian.commit(project='first-steps-with-python')\n",
    "\n",
    "The first time you run jovian.commit, you'll be asked to provide an API Key to securely upload the notebook to your Jovian account.\n",
    "\n",
    "\n",
    "39. What is the purpose of the API key requested by jovian.commit ? Where can you find the API key?\n",
    "\n",
    "Ans: The purpose of the API Key is to securely upload the notebook to your Jovian account. You can get the API key from your Jovian profile page after logging in / signing up.\n",
    "\n",
    "40. Where can you learn about arithmetic, conditional and logical operations in Python?\n",
    "\n",
    "Ans: \n",
    "* Python Tutorial at W3Schools: https://www.w3schools.com/python/\n",
    "* Practical Python Programming: https://dabeaz-course.github.io/practical-python/Notes/Contents.html\n",
    "* Python official documentation: https://docs.python.org/3/tutorial/index.html\n"
   ]
  },
  {
   "cell_type": "code",
   "execution_count": 33,
   "id": "bd7b03e5",
   "metadata": {},
   "outputs": [
    {
     "data": {
      "application/javascript": [
       "if (window.IPython && IPython.notebook.kernel) IPython.notebook.kernel.execute('jovian.utils.jupyter.get_notebook_name_saved = lambda: \"' + IPython.notebook.notebook_name + '\"')"
      ],
      "text/plain": [
       "<IPython.core.display.Javascript object>"
      ]
     },
     "metadata": {},
     "output_type": "display_data"
    },
    {
     "data": {
      "application/javascript": [
       "window.require && require([\"base/js/namespace\"],function(Jupyter){Jupyter.notebook.save_checkpoint()})"
      ],
      "text/plain": [
       "<IPython.core.display.Javascript object>"
      ]
     },
     "metadata": {},
     "output_type": "display_data"
    },
    {
     "name": "stdout",
     "output_type": "stream",
     "text": [
      "[jovian] Please enter your API key ( from https://jovian.ai/ ):\u001b[0m\n",
      "API KEY: ········\n",
      "[jovian] Updating notebook \"farooquiesakib/first-steps-with-python\" on https://jovian.ai/\u001b[0m\n",
      "[jovian] Committed successfully! https://jovian.ai/farooquiesakib/first-steps-with-python\u001b[0m\n"
     ]
    },
    {
     "data": {
      "text/plain": [
       "'https://jovian.ai/farooquiesakib/first-steps-with-python'"
      ]
     },
     "execution_count": 33,
     "metadata": {},
     "output_type": "execute_result"
    }
   ],
   "source": [
    "import jovian\n",
    "\n",
    "jovian.commit(project='first-steps-with-python')"
   ]
  },
  {
   "cell_type": "code",
   "execution_count": null,
   "id": "818dc794",
   "metadata": {},
   "outputs": [],
   "source": []
  }
 ],
 "metadata": {
  "kernelspec": {
   "display_name": "Python 3 (ipykernel)",
   "language": "python",
   "name": "python3"
  },
  "language_info": {
   "codemirror_mode": {
    "name": "ipython",
    "version": 3
   },
   "file_extension": ".py",
   "mimetype": "text/x-python",
   "name": "python",
   "nbconvert_exporter": "python",
   "pygments_lexer": "ipython3",
   "version": "3.9.7"
  }
 },
 "nbformat": 4,
 "nbformat_minor": 5
}
